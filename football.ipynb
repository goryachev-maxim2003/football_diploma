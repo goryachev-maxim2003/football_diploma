{
 "cells": [
  {
   "cell_type": "markdown",
   "metadata": {},
   "source": [
    "### Импорт библиотек"
   ]
  },
  {
   "cell_type": "code",
   "execution_count": 2,
   "metadata": {},
   "outputs": [],
   "source": [
    "import pandas as pd\n",
    "import soccerdata as sd\n",
    "import os\n",
    "from functools import reduce\n",
    "import numpy as np"
   ]
  },
  {
   "cell_type": "markdown",
   "metadata": {},
   "source": [
    "### парсим сразу всё"
   ]
  },
  {
   "cell_type": "code",
   "execution_count": null,
   "metadata": {},
   "outputs": [],
   "source": [
    "# в файле библиотеки sd.Fbref в файле Fbref.py после импортов была прописана команда \n",
    "import logging\n",
    "logging.getLogger(\"root\").disabled = True\n",
    "\n",
    "leagues_array = ['Big 5 European Leagues Combined']\n",
    "seasons_array = ['20-21', '21-22', '22-23', '23-24']\n",
    "\n",
    "fbref = sd.FBref(leagues=leagues_array, seasons=seasons_array)"
   ]
  },
  {
   "cell_type": "code",
   "execution_count": null,
   "metadata": {},
   "outputs": [],
   "source": [
    "# force_cache=False - берёт данные из кэша\n",
    "errors = []\n",
    "# summary\n",
    "try:\n",
    "    df = fbref.read_player_match_stats() # stat_type='summary' по умолчанию\n",
    "    df.to_parquet('data/players_statistics_summary.parquet')\n",
    "except Exception as e:\n",
    "    errors.append((\"summary\", e))\n",
    "# keepers\n",
    "try:\n",
    "    df = fbref.read_player_match_stats(stat_type='keepers')\n",
    "    df.to_parquet('data/players_statistics_keepers.parquet')\n",
    "except Exception as e:\n",
    "    errors.append((\"keepers\", e))\n",
    "# passing\n",
    "try:\n",
    "    df = fbref.read_player_match_stats(stat_type='passing')\n",
    "    df.to_parquet('data/players_statistics_passing.parquet')\n",
    "except Exception as e:\n",
    "    errors.append((\"passing\", e))\n",
    "# passing_types\n",
    "try:\n",
    "    df = fbref.read_player_match_stats(stat_type='passing_types')\n",
    "    df.to_parquet('data/players_statistics_passing_types.parquet')\n",
    "except Exception as e:\n",
    "    errors.append(('passing_types', e))\n",
    "# defense\n",
    "try:\n",
    "    df = fbref.read_player_match_stats(stat_type='defense')\n",
    "    df.to_parquet('data/players_statistics_defense.parquet')\n",
    "except Exception as e:\n",
    "    errors.append(('defense', e))\n",
    "#possession\n",
    "try:\n",
    "    df = fbref.read_player_match_stats(stat_type='possession')\n",
    "    df.to_parquet('data/players_statistics_possession.parquet')\n",
    "except Exception as e:\n",
    "    errors.append(('possession', e))\n",
    "# misc\n",
    "try:\n",
    "    df = fbref.read_player_match_stats(stat_type='misc')\n",
    "    df.to_parquet('data/players_statistics_misc.parquet')\n",
    "except Exception as e:\n",
    "    errors.append(('misc', e))\n",
    "# matches_events\n",
    "try:\n",
    "    df = fbref.read_events()\n",
    "    df.to_parquet('data/matches_events.parquet')\n",
    "except Exception as e:\n",
    "    errors.append(('matches_events', e))\n",
    "# team_season_stats\n",
    "try:\n",
    "    df = fbref.read_team_season_stats()\n",
    "    df.to_parquet('data/team_season_stats.parquet')\n",
    "except Exception as e:\n",
    "    errors.append(('team_season_stats', e))\n",
    "# schedule\n",
    "try:\n",
    "    df = fbref.read_schedule()\n",
    "    df.to_parquet('data/schedule.parquet')\n",
    "except Exception as e:\n",
    "    errors.append(('schedule', e))"
   ]
  },
  {
   "cell_type": "code",
   "execution_count": 6,
   "metadata": {},
   "outputs": [
    {
     "name": "stdout",
     "output_type": "stream",
     "text": [
      "[]\n"
     ]
    }
   ],
   "source": [
    "print(errors)"
   ]
  },
  {
   "cell_type": "markdown",
   "metadata": {},
   "source": [
    "### Старый парсинг"
   ]
  },
  {
   "cell_type": "markdown",
   "metadata": {},
   "source": [
    "#### summary"
   ]
  },
  {
   "cell_type": "code",
   "execution_count": null,
   "metadata": {},
   "outputs": [],
   "source": [
    "try:\n",
    "    players_stat = fbref.read_player_match_stats() # stat_type='summary' по умолчанию\n",
    "    players_stat.to_csv('players_statistics.csv', encoding='utf-8')\n",
    "except Exception as e:\n",
    "    error = e"
   ]
  },
  {
   "cell_type": "code",
   "execution_count": null,
   "metadata": {},
   "outputs": [],
   "source": [
    "error = None"
   ]
  },
  {
   "cell_type": "markdown",
   "metadata": {},
   "source": [
    "#### keepers"
   ]
  },
  {
   "cell_type": "code",
   "execution_count": null,
   "metadata": {},
   "outputs": [],
   "source": [
    "try:\n",
    "    players_stat_keepers = fbref.read_player_match_stats(stat_type='keepers')\n",
    "    players_stat_keepers.to_csv('players_statistics_keepers.csv', encoding='utf-8')\n",
    "except Exception as e:\n",
    "    error = e"
   ]
  },
  {
   "cell_type": "markdown",
   "metadata": {},
   "source": [
    "#### passing"
   ]
  },
  {
   "cell_type": "code",
   "execution_count": null,
   "metadata": {},
   "outputs": [],
   "source": [
    "try:\n",
    "    players_stat_passing = fbref.read_player_match_stats(stat_type='passing')\n",
    "    players_stat_passing.to_csv('players_statistics_passing.csv', encoding='utf-8')\n",
    "except Exception as e:\n",
    "    error = e"
   ]
  },
  {
   "cell_type": "markdown",
   "metadata": {},
   "source": [
    "#### passing_types"
   ]
  },
  {
   "cell_type": "code",
   "execution_count": null,
   "metadata": {},
   "outputs": [],
   "source": [
    "try:\n",
    "    players_stat_passing_types = fbref.read_player_match_stats(stat_type='passing_types')\n",
    "    players_stat_passing_types.to_csv('players_statistics_passing_types.csv', encoding='utf-8')\n",
    "except Exception as e:\n",
    "    error = e"
   ]
  },
  {
   "cell_type": "markdown",
   "metadata": {},
   "source": [
    "#### defense"
   ]
  },
  {
   "cell_type": "code",
   "execution_count": null,
   "metadata": {},
   "outputs": [],
   "source": [
    "try:\n",
    "    players_stat_defense = fbref.read_player_match_stats(stat_type='defense')\n",
    "    players_stat_defense.to_csv('players_statistics_defense.csv', encoding='utf-8')\n",
    "except Exception as e:\n",
    "    error = e"
   ]
  },
  {
   "cell_type": "markdown",
   "metadata": {},
   "source": [
    "#### possession"
   ]
  },
  {
   "cell_type": "code",
   "execution_count": null,
   "metadata": {},
   "outputs": [],
   "source": [
    "try:\n",
    "    players_stat_possession = fbref.read_player_match_stats(stat_type='possession')\n",
    "    players_stat_possession.to_csv('players_statistics_possession.csv', encoding='utf-8')\n",
    "except Exception as e:\n",
    "    error = e"
   ]
  },
  {
   "cell_type": "markdown",
   "metadata": {},
   "source": [
    "#### misc"
   ]
  },
  {
   "cell_type": "code",
   "execution_count": null,
   "metadata": {},
   "outputs": [],
   "source": [
    "try:\n",
    "    players_stat_misc = fbref.read_player_match_stats(stat_type='misc')\n",
    "    players_stat_misc.to_csv('players_statistics_misc.csv', encoding='utf-8')\n",
    "except Exception as e:\n",
    "    error = e"
   ]
  },
  {
   "cell_type": "markdown",
   "metadata": {},
   "source": [
    "#### matches_events"
   ]
  },
  {
   "cell_type": "code",
   "execution_count": null,
   "metadata": {},
   "outputs": [],
   "source": [
    "try:\n",
    "    matches_events = fbref.read_events()\n",
    "    matches_events.to_csv('matches_result.csv', encoding='utf-8')\n",
    "except Exception as e:\n",
    "    error = e"
   ]
  },
  {
   "cell_type": "markdown",
   "metadata": {},
   "source": [
    "#### matches_result"
   ]
  },
  {
   "cell_type": "code",
   "execution_count": null,
   "metadata": {},
   "outputs": [],
   "source": [
    "try:\n",
    "    matches_results = fbref.read_team_season_stats()\n",
    "    matches_results.to_csv('matches_results.csv', encoding='utf-8')\n",
    "except Exception as e:\n",
    "    error = e"
   ]
  },
  {
   "cell_type": "markdown",
   "metadata": {},
   "source": [
    "#### schedule"
   ]
  },
  {
   "cell_type": "code",
   "execution_count": null,
   "metadata": {},
   "outputs": [],
   "source": [
    "schedule = fbref.read_schedule()"
   ]
  },
  {
   "cell_type": "code",
   "execution_count": null,
   "metadata": {},
   "outputs": [],
   "source": [
    "schedule.to_parquet(\"data/schedule.parquet\")"
   ]
  },
  {
   "cell_type": "markdown",
   "metadata": {},
   "source": [
    "#### Считываем данные с csv файла"
   ]
  },
  {
   "cell_type": "code",
   "execution_count": null,
   "metadata": {},
   "outputs": [],
   "source": [
    "matches_results = pd.read_csv('data_csv/matches_results.csv', header = [0, 1])"
   ]
  },
  {
   "cell_type": "markdown",
   "metadata": {},
   "source": [
    "#### Преобразование csv в parquet"
   ]
  },
  {
   "cell_type": "code",
   "execution_count": null,
   "metadata": {},
   "outputs": [],
   "source": [
    "matches_results_from_csv = pd.read_csv('data_csv/matches_results.csv', header=[0, 1], index_col = [0, 1, 2])"
   ]
  },
  {
   "cell_type": "code",
   "execution_count": null,
   "metadata": {},
   "outputs": [],
   "source": [
    "players_stat.to_parquet('data/players_statistics.parquet')"
   ]
  },
  {
   "cell_type": "code",
   "execution_count": null,
   "metadata": {},
   "outputs": [],
   "source": [
    "matches_results_from_csv = pd.read_csv('data_csv/matches_results.csv', header=[0, 1], index_col = [0, 1, 2])\n",
    "matches_results_from_csv.to_parquet('data/matches_results.parquet')"
   ]
  },
  {
   "cell_type": "code",
   "execution_count": null,
   "metadata": {},
   "outputs": [],
   "source": [
    "matches_summary_from_csv = pd.read_csv('data_csv/matches_summary.csv')\n",
    "matches_summary_from_csv.to_parquet('data/matches_summary.parquet')"
   ]
  },
  {
   "cell_type": "code",
   "execution_count": null,
   "metadata": {},
   "outputs": [],
   "source": [
    "import os\n",
    "a = os.listdir('data_csv')"
   ]
  },
  {
   "cell_type": "code",
   "execution_count": null,
   "metadata": {},
   "outputs": [],
   "source": [
    "for i in a:\n",
    "    name = i[:-4]\n",
    "    print(f\"{name}_from_csv = pd.read_csv('data_csv/{name}.csv', header=[0, 1], index_col = [0, 1, 2])\\n\\\n",
    "{name}_from_csv.to_parquet('data/{name}.parquet')\")"
   ]
  },
  {
   "cell_type": "code",
   "execution_count": null,
   "metadata": {},
   "outputs": [],
   "source": [
    "players_statistics_from_csv = pd.read_csv('data_csv/players_statistics.csv', header=[0, 1], index_col = list(range(5)))\n",
    "players_statistics_from_csv.to_parquet('data/players_statistics.parquet')"
   ]
  },
  {
   "cell_type": "code",
   "execution_count": null,
   "metadata": {},
   "outputs": [],
   "source": [
    "players_statistics_defense_from_csv = pd.read_csv('data_csv/players_statistics_defense.csv', header=[0, 1], index_col = list(range(5)))\n",
    "players_statistics_defense_from_csv.to_parquet('data/players_statistics_defense.parquet')\n"
   ]
  },
  {
   "cell_type": "code",
   "execution_count": null,
   "metadata": {},
   "outputs": [],
   "source": [
    "players_statistics_keepers_from_csv = pd.read_csv('data_csv/players_statistics_keepers.csv', header=[0, 1], index_col = list(range(5)))\n",
    "players_statistics_keepers_from_csv.to_parquet('data/players_statistics_keepers.parquet')\n"
   ]
  },
  {
   "cell_type": "code",
   "execution_count": null,
   "metadata": {},
   "outputs": [],
   "source": [
    "players_statistics_misc_from_csv = pd.read_csv('data_csv/players_statistics_misc.csv', header=[0, 1], index_col = list(range(5)))\n",
    "players_statistics_misc_from_csv.to_parquet('data/players_statistics_misc.parquet')\n"
   ]
  },
  {
   "cell_type": "code",
   "execution_count": null,
   "metadata": {},
   "outputs": [],
   "source": [
    "players_statistics_passing_from_csv = pd.read_csv('data_csv/players_statistics_passing.csv', header=[0, 1], index_col = list(range(5)))\n",
    "players_statistics_passing_from_csv.to_parquet('data/players_statistics_passing.parquet')\n"
   ]
  },
  {
   "cell_type": "code",
   "execution_count": null,
   "metadata": {},
   "outputs": [],
   "source": [
    "players_statistics_passing_types_from_csv = pd.read_csv('data_csv/players_statistics_passing_types.csv', header=[0, 1], index_col = list(range(5)))\n",
    "players_statistics_passing_types_from_csv.to_parquet('data/players_statistics_passing_types.parquet')\n"
   ]
  },
  {
   "cell_type": "code",
   "execution_count": null,
   "metadata": {},
   "outputs": [],
   "source": [
    "players_statistics_possession_from_csv = pd.read_csv('data_csv/players_statistics_possession.csv', header=[0, 1], index_col = list(range(5)))\n",
    "players_statistics_possession_from_csv.to_parquet('data/players_statistics_possession.parquet')"
   ]
  },
  {
   "cell_type": "markdown",
   "metadata": {},
   "source": [
    "### Чтение данных с parquet"
   ]
  },
  {
   "cell_type": "code",
   "execution_count": 11,
   "metadata": {},
   "outputs": [
    {
     "name": "stdout",
     "output_type": "stream",
     "text": [
      "matches_events.parquet ok (112068, 6)\n",
      "players_statistics_defense.parquet ok (219512, 22)\n",
      "players_statistics_keepers.parquet ok (14641, 24)\n",
      "players_statistics_misc.parquet ok (219512, 22)\n",
      "players_statistics_passing.parquet ok (219512, 28)\n",
      "players_statistics_passing_types.parquet ok (219512, 21)\n",
      "players_statistics_possession.parquet ok (219512, 28)\n",
      "players_statistics_summary.parquet ok (219565, 31)\n",
      "schedule.parquet ok (7241, 16)\n",
      "team_season_stats.parquet ok (390, 32)\n"
     ]
    }
   ],
   "source": [
    "dir = \"data\"\n",
    "dfs = dict()\n",
    "for i in os.listdir(dir):\n",
    "    try:\n",
    "        dfs[i[:-8]] = pd.read_parquet(f\"{dir}/{i}\")\n",
    "        print(i, \"ok\", dfs[i[:-8]].shape)\n",
    "    except:\n",
    "        print(i, \"error\")"
   ]
  },
  {
   "cell_type": "markdown",
   "metadata": {},
   "source": [
    "### Проверка что для всех игроков есть инфа на матч"
   ]
  },
  {
   "cell_type": "code",
   "execution_count": 5,
   "metadata": {},
   "outputs": [
    {
     "data": {
      "text/plain": [
       "set()"
      ]
     },
     "execution_count": 5,
     "metadata": {},
     "output_type": "execute_result"
    }
   ],
   "source": [
    "dfs_players = dict()\n",
    "for key in dfs.keys():\n",
    "    if \"players\" in key:\n",
    "        dfs_players[key] = dfs[key]\n",
    "schedule_games = set(dfs[\"schedule\"].index.get_level_values(\"game\"))\n",
    "all_players_games = set()\n",
    "for key in dfs_players.keys():\n",
    "    all_players_games |= set(dfs_players[key].index.get_level_values(\"game\"))\n",
    "all_players_games - schedule_games"
   ]
  },
  {
   "cell_type": "code",
   "execution_count": 7,
   "metadata": {},
   "outputs": [
    {
     "data": {
      "text/html": [
       "<div>\n",
       "<style scoped>\n",
       "    .dataframe tbody tr th:only-of-type {\n",
       "        vertical-align: middle;\n",
       "    }\n",
       "\n",
       "    .dataframe tbody tr th {\n",
       "        vertical-align: top;\n",
       "    }\n",
       "\n",
       "    .dataframe thead th {\n",
       "        text-align: right;\n",
       "    }\n",
       "</style>\n",
       "<table border=\"1\" class=\"dataframe\">\n",
       "  <thead>\n",
       "    <tr style=\"text-align: right;\">\n",
       "      <th></th>\n",
       "      <th></th>\n",
       "      <th></th>\n",
       "      <th>week</th>\n",
       "      <th>day</th>\n",
       "      <th>date</th>\n",
       "      <th>time</th>\n",
       "      <th>home_team</th>\n",
       "      <th>home_xg</th>\n",
       "      <th>score</th>\n",
       "      <th>away_xg</th>\n",
       "      <th>away_team</th>\n",
       "      <th>attendance</th>\n",
       "      <th>venue</th>\n",
       "      <th>referee</th>\n",
       "      <th>match_report</th>\n",
       "      <th>notes</th>\n",
       "      <th>round</th>\n",
       "      <th>game_id</th>\n",
       "    </tr>\n",
       "    <tr>\n",
       "      <th>league</th>\n",
       "      <th>season</th>\n",
       "      <th>game</th>\n",
       "      <th></th>\n",
       "      <th></th>\n",
       "      <th></th>\n",
       "      <th></th>\n",
       "      <th></th>\n",
       "      <th></th>\n",
       "      <th></th>\n",
       "      <th></th>\n",
       "      <th></th>\n",
       "      <th></th>\n",
       "      <th></th>\n",
       "      <th></th>\n",
       "      <th></th>\n",
       "      <th></th>\n",
       "      <th></th>\n",
       "      <th></th>\n",
       "    </tr>\n",
       "  </thead>\n",
       "  <tbody>\n",
       "  </tbody>\n",
       "</table>\n",
       "</div>"
      ],
      "text/plain": [
       "Empty DataFrame\n",
       "Columns: [week, day, date, time, home_team, home_xg, score, away_xg, away_team, attendance, venue, referee, match_report, notes, round, game_id]\n",
       "Index: []"
      ]
     },
     "execution_count": 7,
     "metadata": {},
     "output_type": "execute_result"
    }
   ],
   "source": [
    "dfs[\"schedule\"][dfs[\"schedule\"].index.get_level_values('game').isin(all_players_games - schedule_games)]"
   ]
  },
  {
   "cell_type": "markdown",
   "metadata": {},
   "source": [
    "### Добавляем столбец в parquet для описания таблицы, к players таблицам"
   ]
  },
  {
   "cell_type": "code",
   "execution_count": null,
   "metadata": {},
   "outputs": [],
   "source": [
    "# если для вратарей тоже нужно\n",
    "# for key in dfs.keys():\n",
    "#     if 'players' in key:\n",
    "#         new_col = key.split('_', 2)[-1]\n",
    "#         df = dfs[key]\n",
    "#         df.columns = pd.MultiIndex.from_tuples([(new_col,)+col for col in df.columns])\n",
    "#         df.to_parquet(f'data/{key}.parquet')\n",
    "        \n",
    "\n",
    "# Проверяем\n",
    "for key in dfs.keys():\n",
    "    if 'players' in key:\n",
    "        df = dfs[key]\n",
    "        print('\\n'*3, )\n",
    "        print(df.columns)"
   ]
  },
  {
   "cell_type": "markdown",
   "metadata": {},
   "source": [
    "### Парсинг описаний факторов"
   ]
  },
  {
   "cell_type": "code",
   "execution_count": null,
   "metadata": {},
   "outputs": [],
   "source": [
    "from bs4 import BeautifulSoup \n",
    "from translate import Translator\n",
    "\n",
    "def translate_text(text, from_lang='en', to_lang='ru'):\n",
    "    translator = Translator(from_lang = from_lang, to_lang = to_lang)\n",
    "    if text:\n",
    "        return translator.translate(data_tip)\n",
    "    else:\n",
    "        return None\n",
    "    \n",
    "def deleter(el, arr):\n",
    "    for i in arr:\n",
    "        el = el.replace(i, '')\n",
    "    return el\n",
    "\n",
    "with open('match.html', encoding='utf-8') as f:\n",
    "    soup = BeautifulSoup(f.read(), 'html.parser')\n",
    "tables = soup.find_all('table', class_ = 'stats_table')\n",
    "\n",
    "rows = []\n",
    "for t in tables[:7]:\n",
    "    t_id = deleter(t['id'], ['b8fd03ef', '18bb7c10', 'stats'])\\\n",
    "        .strip('_')\n",
    "    first_tr = t.find('tr')\n",
    "    next = first_tr.find_next('tr').find('th')\n",
    "    for over_header in first_tr.find_all('th'):\n",
    "        colspan = over_header.get(\"colspan\")\n",
    "        colspan = int(colspan) if colspan else 0 \n",
    "        for i in range(colspan):\n",
    "            data_tip = next.get(\"data-tip\")\n",
    "            if data_tip:\n",
    "                data_tip = deleter(data_tip, ['<strong>', '</strong>'])\\\n",
    "                    .replace('<br>', '\\n')\n",
    "            rows.append([t_id, over_header.string, next.string, data_tip, translate_text(data_tip)])\n",
    "            next = next.find_next('th')\n",
    "df = pd.DataFrame(rows, columns = ['table', 'over_header', 'header', 'description', 'description_ru'])\n",
    "df.to_csv('metadata/description.csv')"
   ]
  },
  {
   "cell_type": "code",
   "execution_count": null,
   "metadata": {},
   "outputs": [],
   "source": [
    "# Загрузка данных\n",
    "df = pd.read_csv('metadata/description.csv')\n",
    "\n",
    "# Генерация HTML\n",
    "html_output = \"\"\"\n",
    "<!DOCTYPE html>\n",
    "<html>\n",
    "<head>\n",
    "    <title>Описание параметров футбольной статистики</title>\n",
    "    <meta charset=\"utf-8\">\n",
    "    <style>\n",
    "        body {\n",
    "            font-family: Arial, sans-serif;\n",
    "            line-height: 1.6;\n",
    "            margin: 20px;\n",
    "            color: #333;\n",
    "        }\n",
    "        h1 {\n",
    "            color: #2c3e50;\n",
    "            border-bottom: 2px solid #3498db;\n",
    "            padding-bottom: 10px;\n",
    "        }\n",
    "        h2 {\n",
    "            color: #2980b9;\n",
    "            margin-top: 30px;\n",
    "        }\n",
    "        .search-container {\n",
    "            margin: 20px 0;\n",
    "            padding: 15px;\n",
    "            background: #f8f9fa;\n",
    "            border-radius: 5px;\n",
    "        }\n",
    "        #search {\n",
    "            width: 100%;\n",
    "            padding: 10px;\n",
    "            font-size: 16px;\n",
    "            border: 1px solid #ddd;\n",
    "            border-radius: 4px;\n",
    "        }\n",
    "        .filter-buttons {\n",
    "            margin: 10px 0;\n",
    "        }\n",
    "        .filter-btn {\n",
    "            margin-right: 5px;\n",
    "            padding: 5px 10px;\n",
    "            background: #3498db;\n",
    "            color: white;\n",
    "            border: none;\n",
    "            border-radius: 3px;\n",
    "            cursor: pointer;\n",
    "        }\n",
    "        .filter-btn:hover {\n",
    "            background: #2980b9;\n",
    "        }\n",
    "        .param-card {\n",
    "            border: 1px solid #ddd;\n",
    "            border-radius: 5px;\n",
    "            padding: 15px;\n",
    "            margin-bottom: 15px;\n",
    "            background: white;\n",
    "            box-shadow: 0 2px 4px rgba(0,0,0,0.1);\n",
    "        }\n",
    "        .param-header {\n",
    "            font-weight: bold;\n",
    "            font-size: 18px;\n",
    "            color: #2c3e50;\n",
    "            margin-bottom: 10px;\n",
    "        }\n",
    "        .param-overheader {\n",
    "            display: inline-block;\n",
    "            background: #3498db;\n",
    "            color: white;\n",
    "            padding: 3px 8px;\n",
    "            border-radius: 3px;\n",
    "            font-size: 14px;\n",
    "            margin-right: 10px;\n",
    "        }\n",
    "        .param-description {\n",
    "            margin: 10px 0;\n",
    "            padding: 10px;\n",
    "            background: #f8f9fa;\n",
    "            border-left: 3px solid #3498db;\n",
    "        }\n",
    "        .no-results {\n",
    "            color: #7f8c8d;\n",
    "            font-style: italic;\n",
    "            padding: 20px;\n",
    "            text-align: center;\n",
    "        }\n",
    "        .table-name {\n",
    "            background: #2c3e50;\n",
    "            color: white;\n",
    "            padding: 10px;\n",
    "            border-radius: 5px;\n",
    "            margin-top: 30px;\n",
    "        }\n",
    "    </style>\n",
    "</head>\n",
    "<body>\n",
    "    <h1>Справочник параметров футбольной статистики</h1>\n",
    "    \n",
    "    <div class=\"search-container\">\n",
    "        <input type=\"text\" id=\"search\" placeholder=\"Поиск по параметрам...\">\n",
    "        <div class=\"filter-buttons\">\n",
    "            <button class=\"filter-btn\" data-filter=\"all\">Все</button>\n",
    "\"\"\"\n",
    "\n",
    "# Добавляем кнопки фильтрации для каждой таблицы\n",
    "tables = df['table'].unique()\n",
    "for table in tables:\n",
    "    html_output += f'<button class=\"filter-btn\" data-filter=\"{table}\">{table}</button>\\n'\n",
    "\n",
    "html_output += \"\"\"\n",
    "        </div>\n",
    "    </div>\n",
    "\"\"\"\n",
    "\n",
    "# Группируем по таблицам\n",
    "grouped = df.groupby('table')\n",
    "\n",
    "for table_name, group in grouped:\n",
    "    html_output += f'<div class=\"table-name\" id=\"table-{table_name}\">{table_name.upper()}</div>\\n'\n",
    "    \n",
    "    for _, row in group.iterrows():\n",
    "        if pd.isna(row['header']) or row['header'] == '':\n",
    "            continue\n",
    "            \n",
    "        overheader = f'<span class=\"param-overheader\">{row[\"over_header\"]}</span>' if pd.notna(row['over_header']) else ''\n",
    "        description_en = f'<div><strong>EN:</strong> {row[\"description\"]}</div>' if pd.notna(row['description']) else ''\n",
    "        description_ru = f'<div><strong>RU:</strong> {row[\"description_ru\"]}</div>' if pd.notna(row['description_ru']) else ''\n",
    "        \n",
    "        html_output += f\"\"\"\n",
    "        <div class=\"param-card\" data-table=\"{row['table']}\">\n",
    "            <div class=\"param-header\">\n",
    "                {overheader}\n",
    "                {row['header']}\n",
    "            </div>\n",
    "            <div class=\"param-description\">\n",
    "                {description_en}\n",
    "                {description_ru}\n",
    "            </div>\n",
    "        </div>\n",
    "        \"\"\"\n",
    "\n",
    "html_output += \"\"\"\n",
    "    <script>\n",
    "        // Поиск и фильтрация\n",
    "        document.getElementById('search').addEventListener('input', function() {\n",
    "            const searchTerm = this.value.toLowerCase();\n",
    "            const cards = document.querySelectorAll('.param-card');\n",
    "            let visibleCount = 0;\n",
    "            \n",
    "            cards.forEach(card => {\n",
    "                const text = card.textContent.toLowerCase();\n",
    "                if (text.includes(searchTerm)) {\n",
    "                    card.style.display = 'block';\n",
    "                    visibleCount++;\n",
    "                } else {\n",
    "                    card.style.display = 'none';\n",
    "                }\n",
    "            });\n",
    "            \n",
    "            // Показываем/скрываем заголовки таблиц\n",
    "            document.querySelectorAll('.table-name').forEach(header => {\n",
    "                const tableId = header.id.split('-')[1];\n",
    "                const hasVisible = document.querySelector(`.param-card[data-table=\"${tableId}\"]:not([style*=\"display: none\"])`);\n",
    "                header.style.display = hasVisible ? 'block' : 'none';\n",
    "            });\n",
    "            \n",
    "            // Показываем сообщение, если ничего не найдено\n",
    "            const noResults = document.getElementById('no-results');\n",
    "            if (visibleCount === 0) {\n",
    "                if (!noResults) {\n",
    "                    const div = document.createElement('div');\n",
    "                    div.id = 'no-results';\n",
    "                    div.className = 'no-results';\n",
    "                    div.textContent = 'Ничего не найдено. Попробуйте изменить запрос.';\n",
    "                    document.body.appendChild(div);\n",
    "                }\n",
    "            } else if (noResults) {\n",
    "                noResults.remove();\n",
    "            }\n",
    "        });\n",
    "        \n",
    "        // Фильтрация по таблицам\n",
    "        document.querySelectorAll('.filter-btn').forEach(btn => {\n",
    "            btn.addEventListener('click', function() {\n",
    "                const filter = this.getAttribute('data-filter');\n",
    "                const cards = document.querySelectorAll('.param-card');\n",
    "                \n",
    "                cards.forEach(card => {\n",
    "                    if (filter === 'all' || card.getAttribute('data-table') === filter) {\n",
    "                        card.style.display = 'block';\n",
    "                    } else {\n",
    "                        card.style.display = 'none';\n",
    "                    }\n",
    "                });\n",
    "                \n",
    "                // Прокрутка к выбранной таблице\n",
    "                if (filter !== 'all') {\n",
    "                    document.getElementById(`table-${filter}`).scrollIntoView({\n",
    "                        behavior: 'smooth'\n",
    "                    });\n",
    "                }\n",
    "            });\n",
    "        });\n",
    "    </script>\n",
    "</body>\n",
    "</html>\n",
    "\"\"\"\n",
    "\n",
    "# Сохранение в файл\n",
    "with open('metadata/description.html', 'w', encoding='utf-8') as f:\n",
    "    f.write(html_output)\n",
    "\n",
    "print(\"HTML-файл успешно создан: description.html\")"
   ]
  },
  {
   "cell_type": "markdown",
   "metadata": {},
   "source": [
    "### Просмотр всех факторов"
   ]
  },
  {
   "cell_type": "code",
   "execution_count": null,
   "metadata": {},
   "outputs": [],
   "source": [
    "description = pd.read_csv('metadata/description.csv')"
   ]
  },
  {
   "cell_type": "code",
   "execution_count": null,
   "metadata": {},
   "outputs": [],
   "source": [
    "description.iloc[:, range(4)]"
   ]
  },
  {
   "cell_type": "code",
   "execution_count": null,
   "metadata": {},
   "outputs": [],
   "source": [
    "# не помню зачем я это делал\n",
    "merged.columns = pd.MultiIndex.from_tuples([tuple(i.replace('(', '').replace(')', '').replace('\\'', '').split(', ')) for i in merged.columns])"
   ]
  },
  {
   "cell_type": "code",
   "execution_count": null,
   "metadata": {},
   "outputs": [],
   "source": [
    "# не помню зачем я это делал\n",
    "merged.index #индекс не такой"
   ]
  },
  {
   "cell_type": "markdown",
   "metadata": {},
   "source": [
    "### Объединяем статистику"
   ]
  },
  {
   "cell_type": "code",
   "execution_count": 13,
   "metadata": {},
   "outputs": [],
   "source": [
    "players_dfs = [dfs[key] for key in dfs.keys() if 'players' in key]\n",
    "merged = reduce(lambda x, y: x.join(y, how='outer'), players_dfs)"
   ]
  },
  {
   "cell_type": "code",
   "execution_count": 25,
   "metadata": {},
   "outputs": [],
   "source": [
    "merged.to_parquet('processed_data/merged.parquet')"
   ]
  },
  {
   "cell_type": "markdown",
   "metadata": {},
   "source": [
    "### Чтение обработанных данных с parquet"
   ]
  },
  {
   "cell_type": "code",
   "execution_count": 38,
   "metadata": {},
   "outputs": [],
   "source": [
    "merged = pd.read_parquet('processed_data/merged.parquet')\n",
    "schedule = pd.read_parquet('processed_data/schedule.parquet')"
   ]
  },
  {
   "cell_type": "markdown",
   "metadata": {},
   "source": [
    "#### Проверка на наличие пустых строк (например, нет инфы про сезон)"
   ]
  },
  {
   "cell_type": "code",
   "execution_count": 39,
   "metadata": {},
   "outputs": [
    {
     "data": {
      "text/plain": [
       "np.int64(0)"
      ]
     },
     "execution_count": 39,
     "metadata": {},
     "output_type": "execute_result"
    }
   ],
   "source": [
    "# merged = merged[~merged.index.get_level_values('season').isna()] # Если нет информации о сезоне\n",
    "merged.index.get_level_values('season').isna().sum()"
   ]
  },
  {
   "cell_type": "markdown",
   "metadata": {},
   "source": [
    "#### Проверка на пустые строки"
   ]
  },
  {
   "cell_type": "code",
   "execution_count": 40,
   "metadata": {},
   "outputs": [
    {
     "data": {
      "text/plain": [
       "np.int64(0)"
      ]
     },
     "execution_count": 40,
     "metadata": {},
     "output_type": "execute_result"
    }
   ],
   "source": [
    "np.sum(merged.index.get_level_values('season').isna())"
   ]
  },
  {
   "cell_type": "markdown",
   "metadata": {},
   "source": [
    "#### Все колонки, чтобы было удобно копировать из файла"
   ]
  },
  {
   "cell_type": "code",
   "execution_count": 77,
   "metadata": {},
   "outputs": [],
   "source": [
    "cols_df = merged.columns.to_frame(name = ['level1', 'level2', 'level3'])\n",
    "dtypes_df = merged.dtypes.to_frame(name='dtype')\n",
    "cols_df.join(dtypes_df).to_csv('metadata/merged_columns.csv')"
   ]
  },
  {
   "cell_type": "code",
   "execution_count": 57,
   "metadata": {},
   "outputs": [],
   "source": [
    "merged.columns.to_series().to_csv('metadata/merged_columns.csv')"
   ]
  },
  {
   "cell_type": "markdown",
   "metadata": {},
   "source": [
    "#### Убираем тех, о ком нет информации о сыгранных минутах"
   ]
  },
  {
   "cell_type": "markdown",
   "metadata": {},
   "source": [
    " - получил красную на 1 минуте\n",
    " - был выпущен на 90 минуте"
   ]
  },
  {
   "cell_type": "code",
   "execution_count": 6,
   "metadata": {},
   "outputs": [
    {
     "data": {
      "text/plain": [
       "np.int64(0)"
      ]
     },
     "execution_count": 6,
     "metadata": {},
     "output_type": "execute_result"
    }
   ],
   "source": [
    "merged.loc[:, ('summary', 'min', '')].isna().sum()"
   ]
  },
  {
   "cell_type": "code",
   "execution_count": 20,
   "metadata": {},
   "outputs": [
    {
     "data": {
      "text/html": [
       "<div>\n",
       "<style scoped>\n",
       "    .dataframe tbody tr th:only-of-type {\n",
       "        vertical-align: middle;\n",
       "    }\n",
       "\n",
       "    .dataframe tbody tr th {\n",
       "        vertical-align: top;\n",
       "    }\n",
       "\n",
       "    .dataframe thead tr th {\n",
       "        text-align: left;\n",
       "    }\n",
       "\n",
       "    .dataframe thead tr:last-of-type th {\n",
       "        text-align: right;\n",
       "    }\n",
       "</style>\n",
       "<table border=\"1\" class=\"dataframe\">\n",
       "  <thead>\n",
       "    <tr>\n",
       "      <th></th>\n",
       "      <th></th>\n",
       "      <th></th>\n",
       "      <th></th>\n",
       "      <th></th>\n",
       "      <th colspan=\"10\" halign=\"left\">defense</th>\n",
       "      <th>...</th>\n",
       "      <th colspan=\"10\" halign=\"left\">summary</th>\n",
       "    </tr>\n",
       "    <tr>\n",
       "      <th></th>\n",
       "      <th></th>\n",
       "      <th></th>\n",
       "      <th></th>\n",
       "      <th></th>\n",
       "      <th>jersey_number</th>\n",
       "      <th>nation</th>\n",
       "      <th>pos</th>\n",
       "      <th>age</th>\n",
       "      <th>min</th>\n",
       "      <th colspan=\"5\" halign=\"left\">Tackles</th>\n",
       "      <th>...</th>\n",
       "      <th colspan=\"5\" halign=\"left\">Performance</th>\n",
       "      <th colspan=\"2\" halign=\"left\">Expected</th>\n",
       "      <th colspan=\"2\" halign=\"left\">SCA</th>\n",
       "      <th>game_id</th>\n",
       "    </tr>\n",
       "    <tr>\n",
       "      <th></th>\n",
       "      <th></th>\n",
       "      <th></th>\n",
       "      <th></th>\n",
       "      <th></th>\n",
       "      <th></th>\n",
       "      <th></th>\n",
       "      <th></th>\n",
       "      <th></th>\n",
       "      <th></th>\n",
       "      <th>Tkl</th>\n",
       "      <th>TklW</th>\n",
       "      <th>Def 3rd</th>\n",
       "      <th>Mid 3rd</th>\n",
       "      <th>Att 3rd</th>\n",
       "      <th>...</th>\n",
       "      <th>Sh</th>\n",
       "      <th>SoT</th>\n",
       "      <th>CrdY</th>\n",
       "      <th>CrdR</th>\n",
       "      <th>Int</th>\n",
       "      <th>xG</th>\n",
       "      <th>npxG</th>\n",
       "      <th>SCA</th>\n",
       "      <th>GCA</th>\n",
       "      <th></th>\n",
       "    </tr>\n",
       "    <tr>\n",
       "      <th>league</th>\n",
       "      <th>season</th>\n",
       "      <th>game</th>\n",
       "      <th>team</th>\n",
       "      <th>player</th>\n",
       "      <th></th>\n",
       "      <th></th>\n",
       "      <th></th>\n",
       "      <th></th>\n",
       "      <th></th>\n",
       "      <th></th>\n",
       "      <th></th>\n",
       "      <th></th>\n",
       "      <th></th>\n",
       "      <th></th>\n",
       "      <th></th>\n",
       "      <th></th>\n",
       "      <th></th>\n",
       "      <th></th>\n",
       "      <th></th>\n",
       "      <th></th>\n",
       "      <th></th>\n",
       "      <th></th>\n",
       "      <th></th>\n",
       "      <th></th>\n",
       "      <th></th>\n",
       "    </tr>\n",
       "  </thead>\n",
       "  <tbody>\n",
       "    <tr>\n",
       "      <th>FRA-Ligue 1</th>\n",
       "      <th>2223</th>\n",
       "      <th>2022-09-18 Nice-Angers</th>\n",
       "      <th>Nice</th>\n",
       "      <th>Jean-Clair Todibo</th>\n",
       "      <td>25</td>\n",
       "      <td>FRA</td>\n",
       "      <td>CB</td>\n",
       "      <td>22-262</td>\n",
       "      <td>&lt;NA&gt;</td>\n",
       "      <td>0</td>\n",
       "      <td>0</td>\n",
       "      <td>0</td>\n",
       "      <td>0</td>\n",
       "      <td>0</td>\n",
       "      <td>...</td>\n",
       "      <td>0</td>\n",
       "      <td>0</td>\n",
       "      <td>0</td>\n",
       "      <td>1</td>\n",
       "      <td>0</td>\n",
       "      <td>0.0</td>\n",
       "      <td>0.0</td>\n",
       "      <td>0</td>\n",
       "      <td>0</td>\n",
       "      <td>58f908b1</td>\n",
       "    </tr>\n",
       "    <tr>\n",
       "      <th rowspan=\"10\" valign=\"top\">ITA-Serie A</th>\n",
       "      <th>2122</th>\n",
       "      <th>2022-03-13 Hellas Verona-Napoli</th>\n",
       "      <th>Napoli</th>\n",
       "      <th>Andrea Petagna</th>\n",
       "      <td>37</td>\n",
       "      <td>ITA</td>\n",
       "      <td>FW</td>\n",
       "      <td>26-256</td>\n",
       "      <td>&lt;NA&gt;</td>\n",
       "      <td>0</td>\n",
       "      <td>0</td>\n",
       "      <td>0</td>\n",
       "      <td>0</td>\n",
       "      <td>0</td>\n",
       "      <td>...</td>\n",
       "      <td>0</td>\n",
       "      <td>0</td>\n",
       "      <td>0</td>\n",
       "      <td>0</td>\n",
       "      <td>0</td>\n",
       "      <td>0.0</td>\n",
       "      <td>0.0</td>\n",
       "      <td>0</td>\n",
       "      <td>0</td>\n",
       "      <td>eb75d1da</td>\n",
       "    </tr>\n",
       "    <tr>\n",
       "      <th rowspan=\"9\" valign=\"top\">2324</th>\n",
       "      <th rowspan=\"9\" valign=\"top\">2024-04-25 Udinese-Roma</th>\n",
       "      <th rowspan=\"9\" valign=\"top\">Roma</th>\n",
       "      <th>Diego Llorente</th>\n",
       "      <td>14</td>\n",
       "      <td>ESP</td>\n",
       "      <td>CB</td>\n",
       "      <td>30-253</td>\n",
       "      <td>&lt;NA&gt;</td>\n",
       "      <td>1</td>\n",
       "      <td>1</td>\n",
       "      <td>0</td>\n",
       "      <td>1</td>\n",
       "      <td>0</td>\n",
       "      <td>...</td>\n",
       "      <td>0</td>\n",
       "      <td>0</td>\n",
       "      <td>0</td>\n",
       "      <td>0</td>\n",
       "      <td>0</td>\n",
       "      <td>0.0</td>\n",
       "      <td>0.0</td>\n",
       "      <td>1</td>\n",
       "      <td>1</td>\n",
       "      <td>bca64d25</td>\n",
       "    </tr>\n",
       "    <tr>\n",
       "      <th>Diego Llorente</th>\n",
       "      <td>14</td>\n",
       "      <td>ESP</td>\n",
       "      <td>CB</td>\n",
       "      <td>30-253</td>\n",
       "      <td>&lt;NA&gt;</td>\n",
       "      <td>1</td>\n",
       "      <td>1</td>\n",
       "      <td>0</td>\n",
       "      <td>1</td>\n",
       "      <td>0</td>\n",
       "      <td>...</td>\n",
       "      <td>0</td>\n",
       "      <td>0</td>\n",
       "      <td>0</td>\n",
       "      <td>0</td>\n",
       "      <td>0</td>\n",
       "      <td>0.0</td>\n",
       "      <td>0.0</td>\n",
       "      <td>1</td>\n",
       "      <td>1</td>\n",
       "      <td>bca64d25</td>\n",
       "    </tr>\n",
       "    <tr>\n",
       "      <th>Diego Llorente</th>\n",
       "      <td>14</td>\n",
       "      <td>ESP</td>\n",
       "      <td>CB</td>\n",
       "      <td>30-253</td>\n",
       "      <td>&lt;NA&gt;</td>\n",
       "      <td>1</td>\n",
       "      <td>1</td>\n",
       "      <td>0</td>\n",
       "      <td>1</td>\n",
       "      <td>0</td>\n",
       "      <td>...</td>\n",
       "      <td>0</td>\n",
       "      <td>0</td>\n",
       "      <td>0</td>\n",
       "      <td>0</td>\n",
       "      <td>0</td>\n",
       "      <td>0.0</td>\n",
       "      <td>0.0</td>\n",
       "      <td>1</td>\n",
       "      <td>1</td>\n",
       "      <td>bca64d25</td>\n",
       "    </tr>\n",
       "    <tr>\n",
       "      <th>...</th>\n",
       "      <td>...</td>\n",
       "      <td>...</td>\n",
       "      <td>...</td>\n",
       "      <td>...</td>\n",
       "      <td>...</td>\n",
       "      <td>...</td>\n",
       "      <td>...</td>\n",
       "      <td>...</td>\n",
       "      <td>...</td>\n",
       "      <td>...</td>\n",
       "      <td>...</td>\n",
       "      <td>...</td>\n",
       "      <td>...</td>\n",
       "      <td>...</td>\n",
       "      <td>...</td>\n",
       "      <td>...</td>\n",
       "      <td>...</td>\n",
       "      <td>...</td>\n",
       "      <td>...</td>\n",
       "      <td>...</td>\n",
       "      <td>...</td>\n",
       "    </tr>\n",
       "    <tr>\n",
       "      <th>Diego Llorente</th>\n",
       "      <td>14</td>\n",
       "      <td>ESP</td>\n",
       "      <td>CB</td>\n",
       "      <td>30-253</td>\n",
       "      <td>&lt;NA&gt;</td>\n",
       "      <td>1</td>\n",
       "      <td>1</td>\n",
       "      <td>0</td>\n",
       "      <td>1</td>\n",
       "      <td>0</td>\n",
       "      <td>...</td>\n",
       "      <td>0</td>\n",
       "      <td>0</td>\n",
       "      <td>0</td>\n",
       "      <td>0</td>\n",
       "      <td>0</td>\n",
       "      <td>0.0</td>\n",
       "      <td>0.0</td>\n",
       "      <td>1</td>\n",
       "      <td>1</td>\n",
       "      <td>bca64d25</td>\n",
       "    </tr>\n",
       "    <tr>\n",
       "      <th>Diego Llorente</th>\n",
       "      <td>14</td>\n",
       "      <td>ESP</td>\n",
       "      <td>CB</td>\n",
       "      <td>30-253</td>\n",
       "      <td>&lt;NA&gt;</td>\n",
       "      <td>1</td>\n",
       "      <td>1</td>\n",
       "      <td>0</td>\n",
       "      <td>1</td>\n",
       "      <td>0</td>\n",
       "      <td>...</td>\n",
       "      <td>0</td>\n",
       "      <td>0</td>\n",
       "      <td>0</td>\n",
       "      <td>0</td>\n",
       "      <td>0</td>\n",
       "      <td>0.0</td>\n",
       "      <td>0.0</td>\n",
       "      <td>1</td>\n",
       "      <td>1</td>\n",
       "      <td>bca64d25</td>\n",
       "    </tr>\n",
       "    <tr>\n",
       "      <th>Diego Llorente</th>\n",
       "      <td>14</td>\n",
       "      <td>ESP</td>\n",
       "      <td>CB</td>\n",
       "      <td>30-253</td>\n",
       "      <td>&lt;NA&gt;</td>\n",
       "      <td>1</td>\n",
       "      <td>1</td>\n",
       "      <td>0</td>\n",
       "      <td>1</td>\n",
       "      <td>0</td>\n",
       "      <td>...</td>\n",
       "      <td>0</td>\n",
       "      <td>0</td>\n",
       "      <td>0</td>\n",
       "      <td>0</td>\n",
       "      <td>0</td>\n",
       "      <td>0.0</td>\n",
       "      <td>0.0</td>\n",
       "      <td>1</td>\n",
       "      <td>1</td>\n",
       "      <td>bca64d25</td>\n",
       "    </tr>\n",
       "    <tr>\n",
       "      <th>Diego Llorente</th>\n",
       "      <td>14</td>\n",
       "      <td>ESP</td>\n",
       "      <td>CB</td>\n",
       "      <td>30-253</td>\n",
       "      <td>&lt;NA&gt;</td>\n",
       "      <td>1</td>\n",
       "      <td>1</td>\n",
       "      <td>0</td>\n",
       "      <td>1</td>\n",
       "      <td>0</td>\n",
       "      <td>...</td>\n",
       "      <td>0</td>\n",
       "      <td>0</td>\n",
       "      <td>0</td>\n",
       "      <td>0</td>\n",
       "      <td>0</td>\n",
       "      <td>0.0</td>\n",
       "      <td>0.0</td>\n",
       "      <td>1</td>\n",
       "      <td>1</td>\n",
       "      <td>bca64d25</td>\n",
       "    </tr>\n",
       "    <tr>\n",
       "      <th>Diego Llorente</th>\n",
       "      <td>14</td>\n",
       "      <td>ESP</td>\n",
       "      <td>CB</td>\n",
       "      <td>30-253</td>\n",
       "      <td>&lt;NA&gt;</td>\n",
       "      <td>1</td>\n",
       "      <td>1</td>\n",
       "      <td>0</td>\n",
       "      <td>1</td>\n",
       "      <td>0</td>\n",
       "      <td>...</td>\n",
       "      <td>0</td>\n",
       "      <td>0</td>\n",
       "      <td>0</td>\n",
       "      <td>0</td>\n",
       "      <td>0</td>\n",
       "      <td>0.0</td>\n",
       "      <td>0.0</td>\n",
       "      <td>1</td>\n",
       "      <td>1</td>\n",
       "      <td>bca64d25</td>\n",
       "    </tr>\n",
       "  </tbody>\n",
       "</table>\n",
       "<p>66 rows × 135 columns</p>\n",
       "</div>"
      ],
      "text/plain": [
       "                                                                                  defense  \\\n",
       "                                                                            jersey_number   \n",
       "                                                                                            \n",
       "league      season game                            team   player                            \n",
       "FRA-Ligue 1 2223   2022-09-18 Nice-Angers          Nice   Jean-Clair Todibo            25   \n",
       "ITA-Serie A 2122   2022-03-13 Hellas Verona-Napoli Napoli Andrea Petagna               37   \n",
       "            2324   2024-04-25 Udinese-Roma         Roma   Diego Llorente               14   \n",
       "                                                          Diego Llorente               14   \n",
       "                                                          Diego Llorente               14   \n",
       "...                                                                                   ...   \n",
       "                                                          Diego Llorente               14   \n",
       "                                                          Diego Llorente               14   \n",
       "                                                          Diego Llorente               14   \n",
       "                                                          Diego Llorente               14   \n",
       "                                                          Diego Llorente               14   \n",
       "\n",
       "                                                                                    \\\n",
       "                                                                            nation   \n",
       "                                                                                     \n",
       "league      season game                            team   player                     \n",
       "FRA-Ligue 1 2223   2022-09-18 Nice-Angers          Nice   Jean-Clair Todibo    FRA   \n",
       "ITA-Serie A 2122   2022-03-13 Hellas Verona-Napoli Napoli Andrea Petagna       ITA   \n",
       "            2324   2024-04-25 Udinese-Roma         Roma   Diego Llorente       ESP   \n",
       "                                                          Diego Llorente       ESP   \n",
       "                                                          Diego Llorente       ESP   \n",
       "...                                                                            ...   \n",
       "                                                          Diego Llorente       ESP   \n",
       "                                                          Diego Llorente       ESP   \n",
       "                                                          Diego Llorente       ESP   \n",
       "                                                          Diego Llorente       ESP   \n",
       "                                                          Diego Llorente       ESP   \n",
       "\n",
       "                                                                                 \\\n",
       "                                                                            pos   \n",
       "                                                                                  \n",
       "league      season game                            team   player                  \n",
       "FRA-Ligue 1 2223   2022-09-18 Nice-Angers          Nice   Jean-Clair Todibo  CB   \n",
       "ITA-Serie A 2122   2022-03-13 Hellas Verona-Napoli Napoli Andrea Petagna     FW   \n",
       "            2324   2024-04-25 Udinese-Roma         Roma   Diego Llorente     CB   \n",
       "                                                          Diego Llorente     CB   \n",
       "                                                          Diego Llorente     CB   \n",
       "...                                                                          ..   \n",
       "                                                          Diego Llorente     CB   \n",
       "                                                          Diego Llorente     CB   \n",
       "                                                          Diego Llorente     CB   \n",
       "                                                          Diego Llorente     CB   \n",
       "                                                          Diego Llorente     CB   \n",
       "\n",
       "                                                                                     \\\n",
       "                                                                                age   \n",
       "                                                                                      \n",
       "league      season game                            team   player                      \n",
       "FRA-Ligue 1 2223   2022-09-18 Nice-Angers          Nice   Jean-Clair Todibo  22-262   \n",
       "ITA-Serie A 2122   2022-03-13 Hellas Verona-Napoli Napoli Andrea Petagna     26-256   \n",
       "            2324   2024-04-25 Udinese-Roma         Roma   Diego Llorente     30-253   \n",
       "                                                          Diego Llorente     30-253   \n",
       "                                                          Diego Llorente     30-253   \n",
       "...                                                                             ...   \n",
       "                                                          Diego Llorente     30-253   \n",
       "                                                          Diego Llorente     30-253   \n",
       "                                                          Diego Llorente     30-253   \n",
       "                                                          Diego Llorente     30-253   \n",
       "                                                          Diego Llorente     30-253   \n",
       "\n",
       "                                                                                   \\\n",
       "                                                                              min   \n",
       "                                                                                    \n",
       "league      season game                            team   player                    \n",
       "FRA-Ligue 1 2223   2022-09-18 Nice-Angers          Nice   Jean-Clair Todibo  <NA>   \n",
       "ITA-Serie A 2122   2022-03-13 Hellas Verona-Napoli Napoli Andrea Petagna     <NA>   \n",
       "            2324   2024-04-25 Udinese-Roma         Roma   Diego Llorente     <NA>   \n",
       "                                                          Diego Llorente     <NA>   \n",
       "                                                          Diego Llorente     <NA>   \n",
       "...                                                                           ...   \n",
       "                                                          Diego Llorente     <NA>   \n",
       "                                                          Diego Llorente     <NA>   \n",
       "                                                          Diego Llorente     <NA>   \n",
       "                                                          Diego Llorente     <NA>   \n",
       "                                                          Diego Llorente     <NA>   \n",
       "\n",
       "                                                                                     \\\n",
       "                                                                            Tackles   \n",
       "                                                                                Tkl   \n",
       "league      season game                            team   player                      \n",
       "FRA-Ligue 1 2223   2022-09-18 Nice-Angers          Nice   Jean-Clair Todibo       0   \n",
       "ITA-Serie A 2122   2022-03-13 Hellas Verona-Napoli Napoli Andrea Petagna          0   \n",
       "            2324   2024-04-25 Udinese-Roma         Roma   Diego Llorente          1   \n",
       "                                                          Diego Llorente          1   \n",
       "                                                          Diego Llorente          1   \n",
       "...                                                                             ...   \n",
       "                                                          Diego Llorente          1   \n",
       "                                                          Diego Llorente          1   \n",
       "                                                          Diego Llorente          1   \n",
       "                                                          Diego Llorente          1   \n",
       "                                                          Diego Llorente          1   \n",
       "\n",
       "                                                                                  \\\n",
       "                                                                                   \n",
       "                                                                            TklW   \n",
       "league      season game                            team   player                   \n",
       "FRA-Ligue 1 2223   2022-09-18 Nice-Angers          Nice   Jean-Clair Todibo    0   \n",
       "ITA-Serie A 2122   2022-03-13 Hellas Verona-Napoli Napoli Andrea Petagna       0   \n",
       "            2324   2024-04-25 Udinese-Roma         Roma   Diego Llorente       1   \n",
       "                                                          Diego Llorente       1   \n",
       "                                                          Diego Llorente       1   \n",
       "...                                                                          ...   \n",
       "                                                          Diego Llorente       1   \n",
       "                                                          Diego Llorente       1   \n",
       "                                                          Diego Llorente       1   \n",
       "                                                          Diego Llorente       1   \n",
       "                                                          Diego Llorente       1   \n",
       "\n",
       "                                                                                     \\\n",
       "                                                                                      \n",
       "                                                                            Def 3rd   \n",
       "league      season game                            team   player                      \n",
       "FRA-Ligue 1 2223   2022-09-18 Nice-Angers          Nice   Jean-Clair Todibo       0   \n",
       "ITA-Serie A 2122   2022-03-13 Hellas Verona-Napoli Napoli Andrea Petagna          0   \n",
       "            2324   2024-04-25 Udinese-Roma         Roma   Diego Llorente          0   \n",
       "                                                          Diego Llorente          0   \n",
       "                                                          Diego Llorente          0   \n",
       "...                                                                             ...   \n",
       "                                                          Diego Llorente          0   \n",
       "                                                          Diego Llorente          0   \n",
       "                                                          Diego Llorente          0   \n",
       "                                                          Diego Llorente          0   \n",
       "                                                          Diego Llorente          0   \n",
       "\n",
       "                                                                                     \\\n",
       "                                                                                      \n",
       "                                                                            Mid 3rd   \n",
       "league      season game                            team   player                      \n",
       "FRA-Ligue 1 2223   2022-09-18 Nice-Angers          Nice   Jean-Clair Todibo       0   \n",
       "ITA-Serie A 2122   2022-03-13 Hellas Verona-Napoli Napoli Andrea Petagna          0   \n",
       "            2324   2024-04-25 Udinese-Roma         Roma   Diego Llorente          1   \n",
       "                                                          Diego Llorente          1   \n",
       "                                                          Diego Llorente          1   \n",
       "...                                                                             ...   \n",
       "                                                          Diego Llorente          1   \n",
       "                                                          Diego Llorente          1   \n",
       "                                                          Diego Llorente          1   \n",
       "                                                          Diego Llorente          1   \n",
       "                                                          Diego Llorente          1   \n",
       "\n",
       "                                                                                     \\\n",
       "                                                                                      \n",
       "                                                                            Att 3rd   \n",
       "league      season game                            team   player                      \n",
       "FRA-Ligue 1 2223   2022-09-18 Nice-Angers          Nice   Jean-Clair Todibo       0   \n",
       "ITA-Serie A 2122   2022-03-13 Hellas Verona-Napoli Napoli Andrea Petagna          0   \n",
       "            2324   2024-04-25 Udinese-Roma         Roma   Diego Llorente          0   \n",
       "                                                          Diego Llorente          0   \n",
       "                                                          Diego Llorente          0   \n",
       "...                                                                             ...   \n",
       "                                                          Diego Llorente          0   \n",
       "                                                          Diego Llorente          0   \n",
       "                                                          Diego Llorente          0   \n",
       "                                                          Diego Llorente          0   \n",
       "                                                          Diego Llorente          0   \n",
       "\n",
       "                                                                             ...  \\\n",
       "                                                                             ...   \n",
       "                                                                             ...   \n",
       "league      season game                            team   player             ...   \n",
       "FRA-Ligue 1 2223   2022-09-18 Nice-Angers          Nice   Jean-Clair Todibo  ...   \n",
       "ITA-Serie A 2122   2022-03-13 Hellas Verona-Napoli Napoli Andrea Petagna     ...   \n",
       "            2324   2024-04-25 Udinese-Roma         Roma   Diego Llorente     ...   \n",
       "                                                          Diego Llorente     ...   \n",
       "                                                          Diego Llorente     ...   \n",
       "...                                                                          ...   \n",
       "                                                          Diego Llorente     ...   \n",
       "                                                          Diego Llorente     ...   \n",
       "                                                          Diego Llorente     ...   \n",
       "                                                          Diego Llorente     ...   \n",
       "                                                          Diego Llorente     ...   \n",
       "\n",
       "                                                                                summary  \\\n",
       "                                                                            Performance   \n",
       "                                                                                     Sh   \n",
       "league      season game                            team   player                          \n",
       "FRA-Ligue 1 2223   2022-09-18 Nice-Angers          Nice   Jean-Clair Todibo           0   \n",
       "ITA-Serie A 2122   2022-03-13 Hellas Verona-Napoli Napoli Andrea Petagna              0   \n",
       "            2324   2024-04-25 Udinese-Roma         Roma   Diego Llorente              0   \n",
       "                                                          Diego Llorente              0   \n",
       "                                                          Diego Llorente              0   \n",
       "...                                                                                 ...   \n",
       "                                                          Diego Llorente              0   \n",
       "                                                          Diego Llorente              0   \n",
       "                                                          Diego Llorente              0   \n",
       "                                                          Diego Llorente              0   \n",
       "                                                          Diego Llorente              0   \n",
       "\n",
       "                                                                                 \\\n",
       "                                                                                  \n",
       "                                                                            SoT   \n",
       "league      season game                            team   player                  \n",
       "FRA-Ligue 1 2223   2022-09-18 Nice-Angers          Nice   Jean-Clair Todibo   0   \n",
       "ITA-Serie A 2122   2022-03-13 Hellas Verona-Napoli Napoli Andrea Petagna      0   \n",
       "            2324   2024-04-25 Udinese-Roma         Roma   Diego Llorente      0   \n",
       "                                                          Diego Llorente      0   \n",
       "                                                          Diego Llorente      0   \n",
       "...                                                                          ..   \n",
       "                                                          Diego Llorente      0   \n",
       "                                                          Diego Llorente      0   \n",
       "                                                          Diego Llorente      0   \n",
       "                                                          Diego Llorente      0   \n",
       "                                                          Diego Llorente      0   \n",
       "\n",
       "                                                                                  \\\n",
       "                                                                                   \n",
       "                                                                            CrdY   \n",
       "league      season game                            team   player                   \n",
       "FRA-Ligue 1 2223   2022-09-18 Nice-Angers          Nice   Jean-Clair Todibo    0   \n",
       "ITA-Serie A 2122   2022-03-13 Hellas Verona-Napoli Napoli Andrea Petagna       0   \n",
       "            2324   2024-04-25 Udinese-Roma         Roma   Diego Llorente       0   \n",
       "                                                          Diego Llorente       0   \n",
       "                                                          Diego Llorente       0   \n",
       "...                                                                          ...   \n",
       "                                                          Diego Llorente       0   \n",
       "                                                          Diego Llorente       0   \n",
       "                                                          Diego Llorente       0   \n",
       "                                                          Diego Llorente       0   \n",
       "                                                          Diego Llorente       0   \n",
       "\n",
       "                                                                                  \\\n",
       "                                                                                   \n",
       "                                                                            CrdR   \n",
       "league      season game                            team   player                   \n",
       "FRA-Ligue 1 2223   2022-09-18 Nice-Angers          Nice   Jean-Clair Todibo    1   \n",
       "ITA-Serie A 2122   2022-03-13 Hellas Verona-Napoli Napoli Andrea Petagna       0   \n",
       "            2324   2024-04-25 Udinese-Roma         Roma   Diego Llorente       0   \n",
       "                                                          Diego Llorente       0   \n",
       "                                                          Diego Llorente       0   \n",
       "...                                                                          ...   \n",
       "                                                          Diego Llorente       0   \n",
       "                                                          Diego Llorente       0   \n",
       "                                                          Diego Llorente       0   \n",
       "                                                          Diego Llorente       0   \n",
       "                                                          Diego Llorente       0   \n",
       "\n",
       "                                                                                 \\\n",
       "                                                                                  \n",
       "                                                                            Int   \n",
       "league      season game                            team   player                  \n",
       "FRA-Ligue 1 2223   2022-09-18 Nice-Angers          Nice   Jean-Clair Todibo   0   \n",
       "ITA-Serie A 2122   2022-03-13 Hellas Verona-Napoli Napoli Andrea Petagna      0   \n",
       "            2324   2024-04-25 Udinese-Roma         Roma   Diego Llorente      0   \n",
       "                                                          Diego Llorente      0   \n",
       "                                                          Diego Llorente      0   \n",
       "...                                                                          ..   \n",
       "                                                          Diego Llorente      0   \n",
       "                                                          Diego Llorente      0   \n",
       "                                                          Diego Llorente      0   \n",
       "                                                          Diego Llorente      0   \n",
       "                                                          Diego Llorente      0   \n",
       "\n",
       "                                                                                      \\\n",
       "                                                                            Expected   \n",
       "                                                                                  xG   \n",
       "league      season game                            team   player                       \n",
       "FRA-Ligue 1 2223   2022-09-18 Nice-Angers          Nice   Jean-Clair Todibo      0.0   \n",
       "ITA-Serie A 2122   2022-03-13 Hellas Verona-Napoli Napoli Andrea Petagna         0.0   \n",
       "            2324   2024-04-25 Udinese-Roma         Roma   Diego Llorente         0.0   \n",
       "                                                          Diego Llorente         0.0   \n",
       "                                                          Diego Llorente         0.0   \n",
       "...                                                                              ...   \n",
       "                                                          Diego Llorente         0.0   \n",
       "                                                          Diego Llorente         0.0   \n",
       "                                                          Diego Llorente         0.0   \n",
       "                                                          Diego Llorente         0.0   \n",
       "                                                          Diego Llorente         0.0   \n",
       "\n",
       "                                                                                  \\\n",
       "                                                                                   \n",
       "                                                                            npxG   \n",
       "league      season game                            team   player                   \n",
       "FRA-Ligue 1 2223   2022-09-18 Nice-Angers          Nice   Jean-Clair Todibo  0.0   \n",
       "ITA-Serie A 2122   2022-03-13 Hellas Verona-Napoli Napoli Andrea Petagna     0.0   \n",
       "            2324   2024-04-25 Udinese-Roma         Roma   Diego Llorente     0.0   \n",
       "                                                          Diego Llorente     0.0   \n",
       "                                                          Diego Llorente     0.0   \n",
       "...                                                                          ...   \n",
       "                                                          Diego Llorente     0.0   \n",
       "                                                          Diego Llorente     0.0   \n",
       "                                                          Diego Llorente     0.0   \n",
       "                                                          Diego Llorente     0.0   \n",
       "                                                          Diego Llorente     0.0   \n",
       "\n",
       "                                                                                 \\\n",
       "                                                                            SCA   \n",
       "                                                                            SCA   \n",
       "league      season game                            team   player                  \n",
       "FRA-Ligue 1 2223   2022-09-18 Nice-Angers          Nice   Jean-Clair Todibo   0   \n",
       "ITA-Serie A 2122   2022-03-13 Hellas Verona-Napoli Napoli Andrea Petagna      0   \n",
       "            2324   2024-04-25 Udinese-Roma         Roma   Diego Llorente      1   \n",
       "                                                          Diego Llorente      1   \n",
       "                                                          Diego Llorente      1   \n",
       "...                                                                          ..   \n",
       "                                                          Diego Llorente      1   \n",
       "                                                          Diego Llorente      1   \n",
       "                                                          Diego Llorente      1   \n",
       "                                                          Diego Llorente      1   \n",
       "                                                          Diego Llorente      1   \n",
       "\n",
       "                                                                                 \\\n",
       "                                                                                  \n",
       "                                                                            GCA   \n",
       "league      season game                            team   player                  \n",
       "FRA-Ligue 1 2223   2022-09-18 Nice-Angers          Nice   Jean-Clair Todibo   0   \n",
       "ITA-Serie A 2122   2022-03-13 Hellas Verona-Napoli Napoli Andrea Petagna      0   \n",
       "            2324   2024-04-25 Udinese-Roma         Roma   Diego Llorente      1   \n",
       "                                                          Diego Llorente      1   \n",
       "                                                          Diego Llorente      1   \n",
       "...                                                                          ..   \n",
       "                                                          Diego Llorente      1   \n",
       "                                                          Diego Llorente      1   \n",
       "                                                          Diego Llorente      1   \n",
       "                                                          Diego Llorente      1   \n",
       "                                                          Diego Llorente      1   \n",
       "\n",
       "                                                                                       \n",
       "                                                                              game_id  \n",
       "                                                                                       \n",
       "league      season game                            team   player                       \n",
       "FRA-Ligue 1 2223   2022-09-18 Nice-Angers          Nice   Jean-Clair Todibo  58f908b1  \n",
       "ITA-Serie A 2122   2022-03-13 Hellas Verona-Napoli Napoli Andrea Petagna     eb75d1da  \n",
       "            2324   2024-04-25 Udinese-Roma         Roma   Diego Llorente     bca64d25  \n",
       "                                                          Diego Llorente     bca64d25  \n",
       "                                                          Diego Llorente     bca64d25  \n",
       "...                                                                               ...  \n",
       "                                                          Diego Llorente     bca64d25  \n",
       "                                                          Diego Llorente     bca64d25  \n",
       "                                                          Diego Llorente     bca64d25  \n",
       "                                                          Diego Llorente     bca64d25  \n",
       "                                                          Diego Llorente     bca64d25  \n",
       "\n",
       "[66 rows x 135 columns]"
      ]
     },
     "execution_count": 20,
     "metadata": {},
     "output_type": "execute_result"
    }
   ],
   "source": [
    "merged[merged.loc[:, ('summary', 'min', '')].isna()]"
   ]
  },
  {
   "cell_type": "code",
   "execution_count": 40,
   "metadata": {},
   "outputs": [],
   "source": [
    "merged[merged.loc[:, ('summary', 'min', '')].isna()].to_parquet(\"metadata/no_info_about_min.parquet\")"
   ]
  },
  {
   "cell_type": "code",
   "execution_count": 21,
   "metadata": {},
   "outputs": [],
   "source": [
    "merged = merged[~merged.loc[:, ('summary', 'min', '')].isna()]"
   ]
  },
  {
   "cell_type": "code",
   "execution_count": 27,
   "metadata": {},
   "outputs": [],
   "source": [
    "merged.to_parquet('processed_data/merged.parquet')"
   ]
  },
  {
   "cell_type": "markdown",
   "metadata": {},
   "source": [
    "#### убираем тех, кто сыграл меньше 45 минут"
   ]
  },
  {
   "cell_type": "code",
   "execution_count": 41,
   "metadata": {},
   "outputs": [
    {
     "data": {
      "text/plain": [
       "np.int64(0)"
      ]
     },
     "execution_count": 41,
     "metadata": {},
     "output_type": "execute_result"
    }
   ],
   "source": [
    "# сколько тех, кто сыграл меньше 45 минут\n",
    "(merged.loc[:, ('summary', 'min', '')] <= 45).sum()"
   ]
  },
  {
   "cell_type": "code",
   "execution_count": 31,
   "metadata": {},
   "outputs": [],
   "source": [
    "merged[(merged.loc[:, ('summary', 'min', '')] <= 45)].to_parquet('metadata/less45min.parquet')"
   ]
  },
  {
   "cell_type": "code",
   "execution_count": 32,
   "metadata": {},
   "outputs": [],
   "source": [
    "merged = merged[~(merged.loc[:, ('summary', 'min', '')] <= 45)]"
   ]
  },
  {
   "cell_type": "code",
   "execution_count": 33,
   "metadata": {},
   "outputs": [],
   "source": [
    "merged.to_parquet('processed_data/merged.parquet')"
   ]
  },
  {
   "cell_type": "markdown",
   "metadata": {},
   "source": [
    "#### Удаляем строки с NAN, где был другой формат статистики "
   ]
  },
  {
   "cell_type": "code",
   "execution_count": 34,
   "metadata": {},
   "outputs": [
    {
     "name": "stderr",
     "output_type": "stream",
     "text": [
      "C:\\Users\\gorya\\AppData\\Local\\Temp\\ipykernel_26644\\3069632019.py:2: PerformanceWarning: indexing past lexsort depth may impact performance.\n",
      "  merged[merged.loc[:, ('defense', 'pos')].isna()].to_parquet('metadata/many_NAN_rows.parquet')\n"
     ]
    }
   ],
   "source": [
    "# матчи с другим форматом статистики\n",
    "merged[merged.loc[:, ('defense', 'pos')].isna()].to_parquet('metadata/many_NAN_rows.parquet')"
   ]
  },
  {
   "cell_type": "code",
   "execution_count": 43,
   "metadata": {},
   "outputs": [
    {
     "name": "stderr",
     "output_type": "stream",
     "text": [
      "C:\\Users\\gorya\\AppData\\Local\\Temp\\ipykernel_26644\\123668297.py:2: PerformanceWarning: indexing past lexsort depth may impact performance.\n",
      "  merged = merged[~(merged.loc[:, ('defense', 'pos')].isna())]\n"
     ]
    }
   ],
   "source": [
    "# удаляем эти строки\n",
    "merged = merged[~(merged.loc[:, ('defense', 'pos')].isna())]"
   ]
  },
  {
   "cell_type": "code",
   "execution_count": null,
   "metadata": {},
   "outputs": [],
   "source": [
    "merged.to_parquet('processed_data/merged.parquet')"
   ]
  },
  {
   "cell_type": "markdown",
   "metadata": {},
   "source": [
    "#### Удаляем дубликаты столбцов"
   ]
  },
  {
   "cell_type": "code",
   "execution_count": 51,
   "metadata": {},
   "outputs": [],
   "source": [
    "duplicates = merged.T.duplicated()"
   ]
  },
  {
   "cell_type": "code",
   "execution_count": 52,
   "metadata": {},
   "outputs": [
    {
     "data": {
      "text/plain": [
       "np.int64(10)"
      ]
     },
     "execution_count": 52,
     "metadata": {},
     "output_type": "execute_result"
    }
   ],
   "source": [
    "# сколько дубликатов\n",
    "duplicates.sum()"
   ]
  },
  {
   "cell_type": "code",
   "execution_count": null,
   "metadata": {},
   "outputs": [],
   "source": [
    "# сохраняем дубликаты в файл, чтобы посмотреть, что дублируется\n",
    "duplicates[duplicates == True].to_csv(\"metadata/duplicated_cols.csv\")\n",
    "# удаляем\n",
    "merged = merged.loc[:, ~duplicates]"
   ]
  },
  {
   "cell_type": "code",
   "execution_count": 56,
   "metadata": {},
   "outputs": [
    {
     "data": {
      "text/plain": [
       "(154120, 125)"
      ]
     },
     "execution_count": 56,
     "metadata": {},
     "output_type": "execute_result"
    }
   ],
   "source": [
    "merged.shape"
   ]
  },
  {
   "cell_type": "code",
   "execution_count": 55,
   "metadata": {},
   "outputs": [],
   "source": [
    "# сохраняем изменения\n",
    "merged.to_parquet('processed_data/merged.parquet')"
   ]
  },
  {
   "cell_type": "markdown",
   "metadata": {},
   "source": [
    "#### удаляем дублирующие столбцы вратарей"
   ]
  },
  {
   "cell_type": "markdown",
   "metadata": {},
   "source": [
    "- у вратарей нет информации в summary, defense и т.д., поэтому, например, ('defense', 'min') и ('keepers', 'min') будут дублироваться для вратарей, но не будут дубликатами в целом, так как ('defense', 'min') нет у вратарей"
   ]
  },
  {
   "cell_type": "code",
   "execution_count": 80,
   "metadata": {},
   "outputs": [],
   "source": [
    "# не берём в расчёт вратарей\n",
    "keepers = merged.loc[:, ('defense', 'pos', '')] == 'GK' #булевый вектор\n",
    "many_is_zero = (merged == 0).sum(axis = 1).sort_values(ascending=False) > 69\n",
    "\n",
    "# merged = merged.loc[keepers | ~keepers & ~many_is_zero]\n",
    "# merged.loc[~(keepers | ~keepers & ~many_is_zero)]"
   ]
  },
  {
   "cell_type": "code",
   "execution_count": 81,
   "metadata": {},
   "outputs": [],
   "source": [
    "merged_keepers = merged.loc[keepers]"
   ]
  },
  {
   "cell_type": "code",
   "execution_count": 87,
   "metadata": {},
   "outputs": [],
   "source": [
    "# находим дубликаты у вратарей\n",
    "duplicates = merged_keepers.T.duplicated()"
   ]
  },
  {
   "cell_type": "code",
   "execution_count": 91,
   "metadata": {},
   "outputs": [
    {
     "data": {
      "text/plain": [
       "defense        Blocks        Sh      True\n",
       "                             Pass    True\n",
       "keepers        nation                True\n",
       "               age                   True\n",
       "               game_id               True\n",
       "misc           Performance   Off     True\n",
       "passing_types  Pass Types    CK      True\n",
       "               Corner Kicks  In      True\n",
       "                             Out     True\n",
       "                             Str     True\n",
       "dtype: bool"
      ]
     },
     "execution_count": 91,
     "metadata": {},
     "output_type": "execute_result"
    }
   ],
   "source": [
    "duplicates.loc[duplicates == True]"
   ]
  },
  {
   "cell_type": "code",
   "execution_count": null,
   "metadata": {},
   "outputs": [],
   "source": [
    "# сохраняем дубликаты в файл, чтобы посмотреть, что дублируется\n",
    "duplicates[duplicates == True].to_csv(\"metadata/duplicated_cols_keepers.csv\")\n",
    "# удаляем\n",
    "merged = merged.loc[:, ~duplicates]"
   ]
  },
  {
   "cell_type": "markdown",
   "metadata": {},
   "source": [
    "#### Убираем почти нулевые столбцы"
   ]
  },
  {
   "cell_type": "code",
   "execution_count": null,
   "metadata": {},
   "outputs": [
    {
     "name": "stderr",
     "output_type": "stream",
     "text": [
      "C:\\Users\\gorya\\AppData\\Local\\Temp\\ipykernel_25472\\4252949616.py:7: UserWarning: Boolean Series key will be reindexed to match DataFrame index.\n",
      "  merged[merged.isna().sum(axis = 1).sort_values(ascending = True) > 25].to_parquet('test.parquet')\n"
     ]
    }
   ],
   "source": [
    "idx = pd.IndexSlice\n",
    "# merged[merged.loc[:, ('summary', 'Expected', 'xG')].isna()].loc[(idx[:,:,:,:,'Anthony Losilla']), ('defense', 'jersey_number')].isna()\n",
    "\n",
    "# error_index = merged.isna().sum(axis = 1).sort_values(ascending = True).index[0]\n",
    "# merged.loc[error_index][merged.loc[error_index].isna()]\n",
    "# (merged.isna().sum(axis = 1).sort_values(ascending = True) > 25).sum()\n",
    "# merged[merged.isna().sum(axis = 1).sort_values(ascending = True) > 25].to_parquet('test.parquet')"
   ]
  },
  {
   "cell_type": "code",
   "execution_count": 105,
   "metadata": {},
   "outputs": [
    {
     "data": {
      "text/plain": [
       "keepers  Sweeper        AvgDist    140579\n",
       "         Shot Stopping  Save%      140149\n",
       "         Launched       Cmp%       139885\n",
       "         Goal Kicks     Launch%    139845\n",
       "                        AvgLen     139839\n",
       "                                    ...  \n",
       "summary  Performance    PK              0\n",
       "                        Int             0\n",
       "                        CrdR            0\n",
       "                        CrdY            0\n",
       "         game_id                        0\n",
       "Length: 135, dtype: int64"
      ]
     },
     "execution_count": 105,
     "metadata": {},
     "output_type": "execute_result"
    }
   ],
   "source": [
    "# будут keepers потому, что статистики вратарей для игроков нет\n",
    "# merged.isna().sum().sort_values(ascending = False).to_csv(\"metadata/zero_cols.csv\")\n",
    "merged.isna().sum().sort_values(ascending = False)"
   ]
  }
 ],
 "metadata": {
  "kernelspec": {
   "display_name": "venv",
   "language": "python",
   "name": "python3"
  },
  "language_info": {
   "codemirror_mode": {
    "name": "ipython",
    "version": 3
   },
   "file_extension": ".py",
   "mimetype": "text/x-python",
   "name": "python",
   "nbconvert_exporter": "python",
   "pygments_lexer": "ipython3",
   "version": "3.11.2"
  }
 },
 "nbformat": 4,
 "nbformat_minor": 2
}
