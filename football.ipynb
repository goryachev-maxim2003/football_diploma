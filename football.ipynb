{
 "cells": [
  {
   "cell_type": "markdown",
   "metadata": {},
   "source": [
    "### Импорт библиотек"
   ]
  },
  {
   "cell_type": "code",
   "execution_count": null,
   "metadata": {},
   "outputs": [],
   "source": [
    "import pandas as pd\n",
    "import soccerdata as sd\n",
    "import os\n",
    "from functools import reduce\n",
    "import numpy as np"
   ]
  },
  {
   "cell_type": "markdown",
   "metadata": {},
   "source": [
    "### Сгенерировать df со статистикой игроков"
   ]
  },
  {
   "cell_type": "code",
   "execution_count": null,
   "metadata": {},
   "outputs": [],
   "source": [
    "leagues_array = [ 'ENG-Premier League', 'ESP-La Liga', 'FRA-Ligue 1', 'GER-Bundesliga', 'ITA-Serie A']\n",
    "seasons_array = [2021, 2022, 2023, 2024]\n",
    "\n",
    "fbref = sd.FBref(leagues=leagues_array, seasons=seasons_array)"
   ]
  },
  {
   "cell_type": "markdown",
   "metadata": {},
   "source": [
    "### парсим сразу всё"
   ]
  },
  {
   "cell_type": "code",
   "execution_count": null,
   "metadata": {},
   "outputs": [],
   "source": [
    "errors = []\n",
    "# summary\n",
    "try:\n",
    "    players_stat = fbref.read_player_match_stats() # stat_type='summary' по умолчанию\n",
    "    players_stat.to_parquet('data/players_statistics.parquet', encoding='utf-8')\n",
    "except Exception as e:\n",
    "    errors.append(e)\n",
    "# keepers\n",
    "try:\n",
    "    players_stat_keepers = fbref.read_player_match_stats(stat_type='keepers')\n",
    "    players_stat_keepers.to_parquet('data/players_statistics_keepers.parquet', encoding='utf-8')\n",
    "except Exception as e:\n",
    "    errors.append(e)\n",
    "# passing\n",
    "try:\n",
    "    players_stat_passing = fbref.read_player_match_stats(stat_type='passing')\n",
    "    players_stat_passing.to_parquet('data/players_statistics_passing.parquet', encoding='utf-8')\n",
    "except Exception as e:\n",
    "    errors.append(e)\n",
    "# passing_types\n",
    "try:\n",
    "    players_stat_passing_types = fbref.read_player_match_stats(stat_type='passing_types')\n",
    "    players_stat_passing_types.to_parquet('data/players_statistics_passing_types.parquet', encoding='utf-8')\n",
    "except Exception as e:\n",
    "    errors.append(e)\n",
    "# defense\n",
    "try:\n",
    "    players_stat_defense = fbref.read_player_match_stats(stat_type='defense')\n",
    "    players_stat_defense.to_parquet('data/players_statistics_defense.parquet', encoding='utf-8')\n",
    "except Exception as e:\n",
    "    errors.append(e)\n",
    "#possession\n",
    "try:\n",
    "    players_stat_possession = fbref.read_player_match_stats(stat_type='possession')\n",
    "    players_stat_possession.to_parquet('data/players_statistics_possession.parquet', encoding='utf-8')\n",
    "except Exception as e:\n",
    "    errors.append(e)\n",
    "# misc\n",
    "try:\n",
    "    players_stat_possession = fbref.read_player_match_stats(stat_type='possession')\n",
    "    players_stat_possession.to_parquet('data/players_statistics_possession.parquet', encoding='utf-8')\n",
    "except Exception as e:\n",
    "    errors.append(e)\n",
    "# matches events\n",
    "try:\n",
    "    matches_events = fbref.read_events()\n",
    "    matches_events.to_parquet('data/matches_result.parquet', encoding='utf-8')\n",
    "except Exception as e:\n",
    "    errors.append(e)\n",
    "# matches result\n",
    "try:\n",
    "    matches_results = fbref.read_team_season_stats()\n",
    "    matches_results.to_parquet('data/matches_results.parquet', encoding='utf-8')\n",
    "except Exception as e:\n",
    "    errors.append(e)\n",
    "# schedule\n",
    "try:\n",
    "    schedule = fbref.read_schedule()\n",
    "    schedule.to_parquet('data/matches_results.parquet', encoding='utf-8')\n",
    "except Exception as e:\n",
    "    errors.append(e)"
   ]
  },
  {
   "cell_type": "markdown",
   "metadata": {},
   "source": [
    "### summary"
   ]
  },
  {
   "cell_type": "code",
   "execution_count": null,
   "metadata": {},
   "outputs": [],
   "source": [
    "try:\n",
    "    players_stat = fbref.read_player_match_stats() # stat_type='summary' по умолчанию\n",
    "    players_stat.to_csv('players_statistics.csv', encoding='utf-8')\n",
    "except Exception as e:\n",
    "    error = e"
   ]
  },
  {
   "cell_type": "code",
   "execution_count": null,
   "metadata": {},
   "outputs": [],
   "source": [
    "error = None"
   ]
  },
  {
   "cell_type": "markdown",
   "metadata": {},
   "source": [
    "### keepers"
   ]
  },
  {
   "cell_type": "code",
   "execution_count": null,
   "metadata": {},
   "outputs": [],
   "source": [
    "try:\n",
    "    players_stat_keepers = fbref.read_player_match_stats(stat_type='keepers')\n",
    "    players_stat_keepers.to_csv('players_statistics_keepers.csv', encoding='utf-8')\n",
    "except Exception as e:\n",
    "    error = e"
   ]
  },
  {
   "cell_type": "markdown",
   "metadata": {},
   "source": [
    "### passing"
   ]
  },
  {
   "cell_type": "code",
   "execution_count": null,
   "metadata": {},
   "outputs": [],
   "source": [
    "try:\n",
    "    players_stat_passing = fbref.read_player_match_stats(stat_type='passing')\n",
    "    players_stat_passing.to_csv('players_statistics_passing.csv', encoding='utf-8')\n",
    "except Exception as e:\n",
    "    error = e"
   ]
  },
  {
   "cell_type": "markdown",
   "metadata": {},
   "source": [
    "### passing_types"
   ]
  },
  {
   "cell_type": "code",
   "execution_count": null,
   "metadata": {},
   "outputs": [],
   "source": [
    "try:\n",
    "    players_stat_passing_types = fbref.read_player_match_stats(stat_type='passing_types')\n",
    "    players_stat_passing_types.to_csv('players_statistics_passing_types.csv', encoding='utf-8')\n",
    "except Exception as e:\n",
    "    error = e"
   ]
  },
  {
   "cell_type": "markdown",
   "metadata": {},
   "source": [
    "### defense"
   ]
  },
  {
   "cell_type": "code",
   "execution_count": null,
   "metadata": {},
   "outputs": [],
   "source": [
    "try:\n",
    "    players_stat_defense = fbref.read_player_match_stats(stat_type='defense')\n",
    "    players_stat_defense.to_csv('players_statistics_defense.csv', encoding='utf-8')\n",
    "except Exception as e:\n",
    "    error = e"
   ]
  },
  {
   "cell_type": "markdown",
   "metadata": {},
   "source": [
    "### possession"
   ]
  },
  {
   "cell_type": "code",
   "execution_count": null,
   "metadata": {},
   "outputs": [],
   "source": [
    "try:\n",
    "    players_stat_possession = fbref.read_player_match_stats(stat_type='possession')\n",
    "    players_stat_possession.to_csv('players_statistics_possession.csv', encoding='utf-8')\n",
    "except Exception as e:\n",
    "    error = e"
   ]
  },
  {
   "cell_type": "markdown",
   "metadata": {},
   "source": [
    "### misc"
   ]
  },
  {
   "cell_type": "code",
   "execution_count": null,
   "metadata": {},
   "outputs": [],
   "source": [
    "try:\n",
    "    players_stat_misc = fbref.read_player_match_stats(stat_type='misc')\n",
    "    players_stat_misc.to_csv('players_statistics_misc.csv', encoding='utf-8')\n",
    "except Exception as e:\n",
    "    error = e"
   ]
  },
  {
   "cell_type": "markdown",
   "metadata": {},
   "source": [
    "### matches_events"
   ]
  },
  {
   "cell_type": "code",
   "execution_count": null,
   "metadata": {},
   "outputs": [],
   "source": [
    "try:\n",
    "    matches_events = fbref.read_events()\n",
    "    matches_events.to_csv('matches_result.csv', encoding='utf-8')\n",
    "except Exception as e:\n",
    "    error = e"
   ]
  },
  {
   "cell_type": "markdown",
   "metadata": {},
   "source": [
    "### matches_result"
   ]
  },
  {
   "cell_type": "code",
   "execution_count": null,
   "metadata": {},
   "outputs": [],
   "source": [
    "try:\n",
    "    matches_results = fbref.read_team_season_stats()\n",
    "    matches_results.to_csv('matches_results.csv', encoding='utf-8')\n",
    "except Exception as e:\n",
    "    error = e"
   ]
  },
  {
   "cell_type": "markdown",
   "metadata": {},
   "source": [
    "### schedule"
   ]
  },
  {
   "cell_type": "code",
   "execution_count": null,
   "metadata": {},
   "outputs": [],
   "source": [
    "schedule = fbref.read_schedule()"
   ]
  },
  {
   "cell_type": "code",
   "execution_count": null,
   "metadata": {},
   "outputs": [],
   "source": [
    "schedule.to_parquet(\"data/schedule.parquet\")"
   ]
  },
  {
   "cell_type": "markdown",
   "metadata": {},
   "source": [
    "### Считываем данные с csv файла"
   ]
  },
  {
   "cell_type": "code",
   "execution_count": null,
   "metadata": {},
   "outputs": [],
   "source": [
    "matches_results = pd.read_csv('data_csv/matches_results.csv', header = [0, 1])"
   ]
  },
  {
   "cell_type": "markdown",
   "metadata": {},
   "source": [
    "### Преобразование csv в parquet"
   ]
  },
  {
   "cell_type": "code",
   "execution_count": null,
   "metadata": {},
   "outputs": [],
   "source": [
    "matches_results_from_csv = pd.read_csv('data_csv/matches_results.csv', header=[0, 1], index_col = [0, 1, 2])"
   ]
  },
  {
   "cell_type": "code",
   "execution_count": null,
   "metadata": {},
   "outputs": [],
   "source": [
    "players_stat.to_parquet('data/players_statistics.parquet')"
   ]
  },
  {
   "cell_type": "code",
   "execution_count": null,
   "metadata": {},
   "outputs": [],
   "source": [
    "matches_results_from_csv = pd.read_csv('data_csv/matches_results.csv', header=[0, 1], index_col = [0, 1, 2])\n",
    "matches_results_from_csv.to_parquet('data/matches_results.parquet')"
   ]
  },
  {
   "cell_type": "code",
   "execution_count": null,
   "metadata": {},
   "outputs": [],
   "source": [
    "matches_summary_from_csv = pd.read_csv('data_csv/matches_summary.csv')\n",
    "matches_summary_from_csv.to_parquet('data/matches_summary.parquet')"
   ]
  },
  {
   "cell_type": "code",
   "execution_count": null,
   "metadata": {},
   "outputs": [],
   "source": [
    "import os\n",
    "a = os.listdir('data_csv')"
   ]
  },
  {
   "cell_type": "code",
   "execution_count": null,
   "metadata": {},
   "outputs": [],
   "source": [
    "for i in a:\n",
    "    name = i[:-4]\n",
    "    print(f\"{name}_from_csv = pd.read_csv('data_csv/{name}.csv', header=[0, 1], index_col = [0, 1, 2])\\n\\\n",
    "{name}_from_csv.to_parquet('data/{name}.parquet')\")"
   ]
  },
  {
   "cell_type": "code",
   "execution_count": null,
   "metadata": {},
   "outputs": [],
   "source": [
    "players_statistics_from_csv = pd.read_csv('data_csv/players_statistics.csv', header=[0, 1], index_col = list(range(5)))\n",
    "players_statistics_from_csv.to_parquet('data/players_statistics.parquet')"
   ]
  },
  {
   "cell_type": "code",
   "execution_count": null,
   "metadata": {},
   "outputs": [],
   "source": [
    "players_statistics_defense_from_csv = pd.read_csv('data_csv/players_statistics_defense.csv', header=[0, 1], index_col = list(range(5)))\n",
    "players_statistics_defense_from_csv.to_parquet('data/players_statistics_defense.parquet')\n"
   ]
  },
  {
   "cell_type": "code",
   "execution_count": null,
   "metadata": {},
   "outputs": [],
   "source": [
    "players_statistics_keepers_from_csv = pd.read_csv('data_csv/players_statistics_keepers.csv', header=[0, 1], index_col = list(range(5)))\n",
    "players_statistics_keepers_from_csv.to_parquet('data/players_statistics_keepers.parquet')\n"
   ]
  },
  {
   "cell_type": "code",
   "execution_count": null,
   "metadata": {},
   "outputs": [],
   "source": [
    "players_statistics_misc_from_csv = pd.read_csv('data_csv/players_statistics_misc.csv', header=[0, 1], index_col = list(range(5)))\n",
    "players_statistics_misc_from_csv.to_parquet('data/players_statistics_misc.parquet')\n"
   ]
  },
  {
   "cell_type": "code",
   "execution_count": null,
   "metadata": {},
   "outputs": [],
   "source": [
    "players_statistics_passing_from_csv = pd.read_csv('data_csv/players_statistics_passing.csv', header=[0, 1], index_col = list(range(5)))\n",
    "players_statistics_passing_from_csv.to_parquet('data/players_statistics_passing.parquet')\n"
   ]
  },
  {
   "cell_type": "code",
   "execution_count": null,
   "metadata": {},
   "outputs": [],
   "source": [
    "players_statistics_passing_types_from_csv = pd.read_csv('data_csv/players_statistics_passing_types.csv', header=[0, 1], index_col = list(range(5)))\n",
    "players_statistics_passing_types_from_csv.to_parquet('data/players_statistics_passing_types.parquet')\n"
   ]
  },
  {
   "cell_type": "code",
   "execution_count": null,
   "metadata": {},
   "outputs": [],
   "source": [
    "players_statistics_possession_from_csv = pd.read_csv('data_csv/players_statistics_possession.csv', header=[0, 1], index_col = list(range(5)))\n",
    "players_statistics_possession_from_csv.to_parquet('data/players_statistics_possession.parquet')"
   ]
  },
  {
   "cell_type": "markdown",
   "metadata": {},
   "source": [
    "### Чтение данных с parquet"
   ]
  },
  {
   "cell_type": "code",
   "execution_count": null,
   "metadata": {},
   "outputs": [],
   "source": [
    "dir = \"data\"\n",
    "dfs = dict()\n",
    "for i in os.listdir(dir):\n",
    "    dfs[i[:-8]] = pd.read_parquet(f\"{dir}/{i}\")"
   ]
  },
  {
   "cell_type": "markdown",
   "metadata": {},
   "source": [
    "### Проверка что для всех игроков есть инфа на матч"
   ]
  },
  {
   "cell_type": "code",
   "execution_count": null,
   "metadata": {},
   "outputs": [],
   "source": [
    "dfs_players = dict()\n",
    "for key in dfs.keys():\n",
    "    if \"players\" in key:\n",
    "        dfs_players[key] = dfs[key]\n",
    "schedule_games = set(dfs[\"schedule\"].index.get_level_values(\"game\"))\n",
    "all_players_games = set()\n",
    "for key in dfs_players.keys():\n",
    "    all_players_games |= set(dfs_players[key].index.get_level_values(\"game\"))\n",
    "all_players_games - schedule_games"
   ]
  },
  {
   "cell_type": "code",
   "execution_count": null,
   "metadata": {},
   "outputs": [],
   "source": [
    "dfs[\"schedule\"][dfs[\"schedule\"].index.get_level_values('game').isin(schedule_games - all_players_games)]"
   ]
  },
  {
   "cell_type": "markdown",
   "metadata": {},
   "source": [
    "### Добавляем столбец в parquet для описания таблицы, к players таблицам кроме keepers"
   ]
  },
  {
   "cell_type": "code",
   "execution_count": null,
   "metadata": {},
   "outputs": [],
   "source": [
    "for key in dfs.keys():\n",
    "    if 'players' in key and 'keepers' not in key:\n",
    "        new_col = 'summary' if key == 'players_statistics' else key.split('_', 2)[-1]\n",
    "        df = dfs[key]\n",
    "        df.columns = pd.MultiIndex.from_tuples([(new_col,)+col for col in df.columns])\n",
    "        df.to_parquet(f'data/{key}.parquet')\n",
    "\n",
    "# Проверяем\n",
    "# for key in dfs.keys():\n",
    "#     if 'players' in key and 'keepers' not in key:\n",
    "#         df = dfs[key]\n",
    "#         print('\\n'*3, )\n",
    "#         print(df.columns)"
   ]
  },
  {
   "cell_type": "markdown",
   "metadata": {},
   "source": [
    "### добавляем для keepers"
   ]
  },
  {
   "cell_type": "code",
   "execution_count": null,
   "metadata": {},
   "outputs": [],
   "source": [
    "# df = dfs[\"players_statistics_keepers\"]\n",
    "# df.columns = pd.MultiIndex.from_tuples([('keepers',)+col for col in df.columns])\n",
    "# df.columns\n",
    "df.to_parquet('data/players_statistics_keepers.parquet')"
   ]
  },
  {
   "cell_type": "markdown",
   "metadata": {},
   "source": [
    "### Парсинг описаний факторов"
   ]
  },
  {
   "cell_type": "code",
   "execution_count": null,
   "metadata": {},
   "outputs": [],
   "source": [
    "from bs4 import BeautifulSoup \n",
    "from translate import Translator\n",
    "\n",
    "def translate_text(text, from_lang='en', to_lang='ru'):\n",
    "    translator = Translator(from_lang = from_lang, to_lang = to_lang)\n",
    "    if text:\n",
    "        return translator.translate(data_tip)\n",
    "    else:\n",
    "        return None\n",
    "    \n",
    "def deleter(el, arr):\n",
    "    for i in arr:\n",
    "        el = el.replace(i, '')\n",
    "    return el\n",
    "\n",
    "with open('match.html', encoding='utf-8') as f:\n",
    "    soup = BeautifulSoup(f.read(), 'html.parser')\n",
    "tables = soup.find_all('table', class_ = 'stats_table')\n",
    "\n",
    "rows = []\n",
    "for t in tables[:7]:\n",
    "    t_id = deleter(t['id'], ['b8fd03ef', '18bb7c10', 'stats'])\\\n",
    "        .strip('_')\n",
    "    first_tr = t.find('tr')\n",
    "    next = first_tr.find_next('tr').find('th')\n",
    "    for over_header in first_tr.find_all('th'):\n",
    "        colspan = over_header.get(\"colspan\")\n",
    "        colspan = int(colspan) if colspan else 0 \n",
    "        for i in range(colspan):\n",
    "            data_tip = next.get(\"data-tip\")\n",
    "            if data_tip:\n",
    "                data_tip = deleter(data_tip, ['<strong>', '</strong>'])\\\n",
    "                    .replace('<br>', '\\n')\n",
    "            rows.append([t_id, over_header.string, next.string, data_tip, translate_text(data_tip)])\n",
    "            next = next.find_next('th')\n",
    "df = pd.DataFrame(rows, columns = ['table', 'over_header', 'header', 'description', 'description_ru'])\n",
    "df.to_csv('metadata/description.csv')"
   ]
  },
  {
   "cell_type": "code",
   "execution_count": null,
   "metadata": {},
   "outputs": [],
   "source": [
    "# Загрузка данных\n",
    "df = pd.read_csv('metadata/description.csv')\n",
    "\n",
    "# Генерация HTML\n",
    "html_output = \"\"\"\n",
    "<!DOCTYPE html>\n",
    "<html>\n",
    "<head>\n",
    "    <title>Описание параметров футбольной статистики</title>\n",
    "    <meta charset=\"utf-8\">\n",
    "    <style>\n",
    "        body {\n",
    "            font-family: Arial, sans-serif;\n",
    "            line-height: 1.6;\n",
    "            margin: 20px;\n",
    "            color: #333;\n",
    "        }\n",
    "        h1 {\n",
    "            color: #2c3e50;\n",
    "            border-bottom: 2px solid #3498db;\n",
    "            padding-bottom: 10px;\n",
    "        }\n",
    "        h2 {\n",
    "            color: #2980b9;\n",
    "            margin-top: 30px;\n",
    "        }\n",
    "        .search-container {\n",
    "            margin: 20px 0;\n",
    "            padding: 15px;\n",
    "            background: #f8f9fa;\n",
    "            border-radius: 5px;\n",
    "        }\n",
    "        #search {\n",
    "            width: 100%;\n",
    "            padding: 10px;\n",
    "            font-size: 16px;\n",
    "            border: 1px solid #ddd;\n",
    "            border-radius: 4px;\n",
    "        }\n",
    "        .filter-buttons {\n",
    "            margin: 10px 0;\n",
    "        }\n",
    "        .filter-btn {\n",
    "            margin-right: 5px;\n",
    "            padding: 5px 10px;\n",
    "            background: #3498db;\n",
    "            color: white;\n",
    "            border: none;\n",
    "            border-radius: 3px;\n",
    "            cursor: pointer;\n",
    "        }\n",
    "        .filter-btn:hover {\n",
    "            background: #2980b9;\n",
    "        }\n",
    "        .param-card {\n",
    "            border: 1px solid #ddd;\n",
    "            border-radius: 5px;\n",
    "            padding: 15px;\n",
    "            margin-bottom: 15px;\n",
    "            background: white;\n",
    "            box-shadow: 0 2px 4px rgba(0,0,0,0.1);\n",
    "        }\n",
    "        .param-header {\n",
    "            font-weight: bold;\n",
    "            font-size: 18px;\n",
    "            color: #2c3e50;\n",
    "            margin-bottom: 10px;\n",
    "        }\n",
    "        .param-overheader {\n",
    "            display: inline-block;\n",
    "            background: #3498db;\n",
    "            color: white;\n",
    "            padding: 3px 8px;\n",
    "            border-radius: 3px;\n",
    "            font-size: 14px;\n",
    "            margin-right: 10px;\n",
    "        }\n",
    "        .param-description {\n",
    "            margin: 10px 0;\n",
    "            padding: 10px;\n",
    "            background: #f8f9fa;\n",
    "            border-left: 3px solid #3498db;\n",
    "        }\n",
    "        .no-results {\n",
    "            color: #7f8c8d;\n",
    "            font-style: italic;\n",
    "            padding: 20px;\n",
    "            text-align: center;\n",
    "        }\n",
    "        .table-name {\n",
    "            background: #2c3e50;\n",
    "            color: white;\n",
    "            padding: 10px;\n",
    "            border-radius: 5px;\n",
    "            margin-top: 30px;\n",
    "        }\n",
    "    </style>\n",
    "</head>\n",
    "<body>\n",
    "    <h1>Справочник параметров футбольной статистики</h1>\n",
    "    \n",
    "    <div class=\"search-container\">\n",
    "        <input type=\"text\" id=\"search\" placeholder=\"Поиск по параметрам...\">\n",
    "        <div class=\"filter-buttons\">\n",
    "            <button class=\"filter-btn\" data-filter=\"all\">Все</button>\n",
    "\"\"\"\n",
    "\n",
    "# Добавляем кнопки фильтрации для каждой таблицы\n",
    "tables = df['table'].unique()\n",
    "for table in tables:\n",
    "    html_output += f'<button class=\"filter-btn\" data-filter=\"{table}\">{table}</button>\\n'\n",
    "\n",
    "html_output += \"\"\"\n",
    "        </div>\n",
    "    </div>\n",
    "\"\"\"\n",
    "\n",
    "# Группируем по таблицам\n",
    "grouped = df.groupby('table')\n",
    "\n",
    "for table_name, group in grouped:\n",
    "    html_output += f'<div class=\"table-name\" id=\"table-{table_name}\">{table_name.upper()}</div>\\n'\n",
    "    \n",
    "    for _, row in group.iterrows():\n",
    "        if pd.isna(row['header']) or row['header'] == '':\n",
    "            continue\n",
    "            \n",
    "        overheader = f'<span class=\"param-overheader\">{row[\"over_header\"]}</span>' if pd.notna(row['over_header']) else ''\n",
    "        description_en = f'<div><strong>EN:</strong> {row[\"description\"]}</div>' if pd.notna(row['description']) else ''\n",
    "        description_ru = f'<div><strong>RU:</strong> {row[\"description_ru\"]}</div>' if pd.notna(row['description_ru']) else ''\n",
    "        \n",
    "        html_output += f\"\"\"\n",
    "        <div class=\"param-card\" data-table=\"{row['table']}\">\n",
    "            <div class=\"param-header\">\n",
    "                {overheader}\n",
    "                {row['header']}\n",
    "            </div>\n",
    "            <div class=\"param-description\">\n",
    "                {description_en}\n",
    "                {description_ru}\n",
    "            </div>\n",
    "        </div>\n",
    "        \"\"\"\n",
    "\n",
    "html_output += \"\"\"\n",
    "    <script>\n",
    "        // Поиск и фильтрация\n",
    "        document.getElementById('search').addEventListener('input', function() {\n",
    "            const searchTerm = this.value.toLowerCase();\n",
    "            const cards = document.querySelectorAll('.param-card');\n",
    "            let visibleCount = 0;\n",
    "            \n",
    "            cards.forEach(card => {\n",
    "                const text = card.textContent.toLowerCase();\n",
    "                if (text.includes(searchTerm)) {\n",
    "                    card.style.display = 'block';\n",
    "                    visibleCount++;\n",
    "                } else {\n",
    "                    card.style.display = 'none';\n",
    "                }\n",
    "            });\n",
    "            \n",
    "            // Показываем/скрываем заголовки таблиц\n",
    "            document.querySelectorAll('.table-name').forEach(header => {\n",
    "                const tableId = header.id.split('-')[1];\n",
    "                const hasVisible = document.querySelector(`.param-card[data-table=\"${tableId}\"]:not([style*=\"display: none\"])`);\n",
    "                header.style.display = hasVisible ? 'block' : 'none';\n",
    "            });\n",
    "            \n",
    "            // Показываем сообщение, если ничего не найдено\n",
    "            const noResults = document.getElementById('no-results');\n",
    "            if (visibleCount === 0) {\n",
    "                if (!noResults) {\n",
    "                    const div = document.createElement('div');\n",
    "                    div.id = 'no-results';\n",
    "                    div.className = 'no-results';\n",
    "                    div.textContent = 'Ничего не найдено. Попробуйте изменить запрос.';\n",
    "                    document.body.appendChild(div);\n",
    "                }\n",
    "            } else if (noResults) {\n",
    "                noResults.remove();\n",
    "            }\n",
    "        });\n",
    "        \n",
    "        // Фильтрация по таблицам\n",
    "        document.querySelectorAll('.filter-btn').forEach(btn => {\n",
    "            btn.addEventListener('click', function() {\n",
    "                const filter = this.getAttribute('data-filter');\n",
    "                const cards = document.querySelectorAll('.param-card');\n",
    "                \n",
    "                cards.forEach(card => {\n",
    "                    if (filter === 'all' || card.getAttribute('data-table') === filter) {\n",
    "                        card.style.display = 'block';\n",
    "                    } else {\n",
    "                        card.style.display = 'none';\n",
    "                    }\n",
    "                });\n",
    "                \n",
    "                // Прокрутка к выбранной таблице\n",
    "                if (filter !== 'all') {\n",
    "                    document.getElementById(`table-${filter}`).scrollIntoView({\n",
    "                        behavior: 'smooth'\n",
    "                    });\n",
    "                }\n",
    "            });\n",
    "        });\n",
    "    </script>\n",
    "</body>\n",
    "</html>\n",
    "\"\"\"\n",
    "\n",
    "# Сохранение в файл\n",
    "with open('metadata/description.html', 'w', encoding='utf-8') as f:\n",
    "    f.write(html_output)\n",
    "\n",
    "print(\"HTML-файл успешно создан: description.html\")"
   ]
  },
  {
   "cell_type": "markdown",
   "metadata": {},
   "source": [
    "### Просмотр всех факторов"
   ]
  },
  {
   "cell_type": "code",
   "execution_count": null,
   "metadata": {},
   "outputs": [],
   "source": [
    "description = pd.read_csv('metadata/description.csv')"
   ]
  },
  {
   "cell_type": "code",
   "execution_count": null,
   "metadata": {},
   "outputs": [],
   "source": [
    "description.iloc[:, range(4)]"
   ]
  },
  {
   "cell_type": "markdown",
   "metadata": {},
   "source": [
    "### Чтение из объединения в PowerBI"
   ]
  },
  {
   "cell_type": "code",
   "execution_count": null,
   "metadata": {},
   "outputs": [],
   "source": [
    "merged = pd.read_excel('processed_data/merged_without_keepers.xlsx', 'lst1')"
   ]
  },
  {
   "cell_type": "code",
   "execution_count": null,
   "metadata": {},
   "outputs": [],
   "source": [
    "merged.columns = pd.MultiIndex.from_tuples([tuple(i.replace('(', '').replace(')', '').replace('\\'', '').split(', ')) for i in merged.columns])"
   ]
  },
  {
   "cell_type": "code",
   "execution_count": null,
   "metadata": {},
   "outputs": [],
   "source": [
    "merged.index #индекс не такой"
   ]
  },
  {
   "cell_type": "markdown",
   "metadata": {},
   "source": [
    "### Объединяем статистику"
   ]
  },
  {
   "cell_type": "code",
   "execution_count": null,
   "metadata": {},
   "outputs": [],
   "source": [
    "players_dfs = [dfs[key] for key in dfs.keys() if 'players' in key]\n",
    "merged = reduce(lambda x, y: x.join(y, how='outer'), players_dfs)"
   ]
  },
  {
   "cell_type": "code",
   "execution_count": null,
   "metadata": {},
   "outputs": [],
   "source": [
    "merged.to_parquet('processed_data/merged.parquet')"
   ]
  },
  {
   "cell_type": "code",
   "execution_count": null,
   "metadata": {},
   "outputs": [],
   "source": [
    "# duplicates = df.T.duplicated()\n",
    "# df = df.loc[:, ~duplicates]"
   ]
  },
  {
   "cell_type": "markdown",
   "metadata": {},
   "source": [
    "### Чтение обработанных данных с parquet"
   ]
  },
  {
   "cell_type": "code",
   "execution_count": null,
   "metadata": {},
   "outputs": [],
   "source": [
    "merged = pd.read_parquet('processed_data/merged_without_keepers.parquet')"
   ]
  },
  {
   "cell_type": "code",
   "execution_count": null,
   "metadata": {},
   "outputs": [],
   "source": [
    "df1 = pd.read_csv('processed_data/1.csv', index_col = [0, 1])\n",
    "df2 = pd.read_csv('processed_data/2.csv', index_col = [0, 1])"
   ]
  },
  {
   "cell_type": "code",
   "execution_count": null,
   "metadata": {},
   "outputs": [],
   "source": [
    "dfs[\"players_statistics\"].shape"
   ]
  },
  {
   "cell_type": "code",
   "execution_count": null,
   "metadata": {},
   "outputs": [],
   "source": [
    "# Преобразуем индексы в DataFrame для сравнения\n",
    "idx1 = dfs[\"players_statistics\"].index.to_frame().reset_index(drop=True)\n",
    "idx2 = merged.index.to_frame().reset_index(drop=True)\n",
    "\n",
    "# Находим различия\n",
    "diff = idx1.merge(idx2, how='left', indicator=True).query('_merge == \"left_only\"')"
   ]
  },
  {
   "cell_type": "markdown",
   "metadata": {},
   "source": [
    "### Чиним данные, где-то добавились ковычки ко всей строке + строка заголовка для чемпионата мира вставилась в середину"
   ]
  },
  {
   "cell_type": "code",
   "execution_count": null,
   "metadata": {},
   "outputs": [],
   "source": [
    "players_stat = pd.read_csv('data_csv/players_statistics.csv')"
   ]
  },
  {
   "cell_type": "code",
   "execution_count": null,
   "metadata": {},
   "outputs": [],
   "source": [
    "\n",
    "players_stat[players_stat['Take-Ons'] == 'Att'].loc[:, 'game_id']"
   ]
  },
  {
   "cell_type": "code",
   "execution_count": null,
   "metadata": {},
   "outputs": [],
   "source": [
    "with open('error.csv', 'w', encoding='utf-8') as file:\n",
    "    file.write('\\n'.join(players_stat[players_stat['game_id'].isna()]['Unnamed: 0'].astype(str).to_list()))\n",
    "#потом руками удалили пустые строки"
   ]
  },
  {
   "cell_type": "code",
   "execution_count": null,
   "metadata": {},
   "outputs": [],
   "source": [
    "df = pd.read_parquet('data/players_statistics_passing.parquet')"
   ]
  }
 ],
 "metadata": {
  "kernelspec": {
   "display_name": "venv",
   "language": "python",
   "name": "python3"
  },
  "language_info": {
   "codemirror_mode": {
    "name": "ipython",
    "version": 3
   },
   "file_extension": ".py",
   "mimetype": "text/x-python",
   "name": "python",
   "nbconvert_exporter": "python",
   "pygments_lexer": "ipython3",
   "version": "3.11.2"
  }
 },
 "nbformat": 4,
 "nbformat_minor": 2
}
