{
 "cells": [
  {
   "cell_type": "code",
   "execution_count": null,
   "id": "5644e071",
   "metadata": {},
   "outputs": [],
   "source": [
    "import pandas as pd\n",
    "import numpy as np"
   ]
  },
  {
   "cell_type": "code",
   "execution_count": null,
   "id": "006b36d1",
   "metadata": {},
   "outputs": [],
   "source": [
    "merged = pd.read_parquet('processed_data/merged2.parquet')"
   ]
  },
  {
   "cell_type": "code",
   "execution_count": 3,
   "id": "9673586f",
   "metadata": {},
   "outputs": [],
   "source": [
    "schedule = pd.read_parquet('processed_data/schedule.parquet')"
   ]
  },
  {
   "cell_type": "code",
   "execution_count": 138,
   "id": "0e6b22fd",
   "metadata": {},
   "outputs": [
    {
     "data": {
      "text/plain": [
       "(154643, 176)"
      ]
     },
     "execution_count": 138,
     "metadata": {},
     "output_type": "execute_result"
    }
   ],
   "source": [
    "merged.shape"
   ]
  },
  {
   "cell_type": "markdown",
   "id": "36938b1b",
   "metadata": {},
   "source": [
    "#### все колонки для удобного копирования из файла"
   ]
  },
  {
   "cell_type": "code",
   "execution_count": 7,
   "id": "7bdaf6a2",
   "metadata": {},
   "outputs": [],
   "source": [
    "merged.columns.to_series().to_csv('metadata/merged_columns.csv')"
   ]
  },
  {
   "cell_type": "markdown",
   "id": "7df09bdf",
   "metadata": {},
   "source": [
    "### Убираем тех, о ком нет информации о сыгранных минутах"
   ]
  },
  {
   "cell_type": "code",
   "execution_count": 137,
   "id": "e814441e",
   "metadata": {},
   "outputs": [],
   "source": [
    "merged = merged[~merged.loc[:, ('summary', 'min', 'Unnamed: 9_level_1')].isna()]"
   ]
  },
  {
   "cell_type": "markdown",
   "id": "52b4a3a0",
   "metadata": {},
   "source": [
    "### убираем тех, кто сыграл меньше 45 минут"
   ]
  },
  {
   "cell_type": "code",
   "execution_count": 139,
   "id": "d7f976f8",
   "metadata": {},
   "outputs": [
    {
     "data": {
      "text/plain": [
       "np.int64(46521)"
      ]
     },
     "execution_count": 139,
     "metadata": {},
     "output_type": "execute_result"
    }
   ],
   "source": [
    "# сколько тех, кто сыграл меньше 45 минут\n",
    "(merged.loc[:, ('summary', 'min', 'Unnamed: 9_level_1')] <= 45).sum()"
   ]
  },
  {
   "cell_type": "code",
   "execution_count": 140,
   "id": "f8881032",
   "metadata": {},
   "outputs": [],
   "source": [
    "#удаляем их\n",
    "merged = merged[~(merged.loc[:, ('summary', 'min', 'Unnamed: 9_level_1')] <= 45)]"
   ]
  },
  {
   "cell_type": "markdown",
   "id": "48aa494d",
   "metadata": {},
   "source": [
    "### Сохраняем изменённый merged"
   ]
  },
  {
   "cell_type": "code",
   "execution_count": 132,
   "id": "e6122f20",
   "metadata": {},
   "outputs": [],
   "source": [
    "merged.to_parquet('processed_data/merged2.parquet')"
   ]
  },
  {
   "cell_type": "markdown",
   "id": "6c01b710",
   "metadata": {},
   "source": [
    "### убираем, где много пустых"
   ]
  },
  {
   "cell_type": "code",
   "execution_count": null,
   "id": "fbed0f36",
   "metadata": {},
   "outputs": [],
   "source": [
    "# не берём в расчёт вратарей\n",
    "keepers = merged.loc[:, ('summary', 'pos', 'Unnamed: 7_level_1')] == 'GK' #булевый вектор\n",
    "more60_is_zero = (merged == 0).sum(axis = 1).sort_values(ascending=False) > 60\n",
    "merged = merged.loc[keepers | ~keepers & ~more60_is_zero]"
   ]
  },
  {
   "cell_type": "markdown",
   "id": "de166fa2",
   "metadata": {},
   "source": [
    "### Удаляем дубликаты"
   ]
  },
  {
   "cell_type": "code",
   "execution_count": 156,
   "id": "87e69762",
   "metadata": {},
   "outputs": [
    {
     "data": {
      "text/html": [
       "<div>\n",
       "<style scoped>\n",
       "    .dataframe tbody tr th:only-of-type {\n",
       "        vertical-align: middle;\n",
       "    }\n",
       "\n",
       "    .dataframe tbody tr th {\n",
       "        vertical-align: top;\n",
       "    }\n",
       "\n",
       "    .dataframe thead tr th {\n",
       "        text-align: left;\n",
       "    }\n",
       "\n",
       "    .dataframe thead tr:last-of-type th {\n",
       "        text-align: right;\n",
       "    }\n",
       "</style>\n",
       "<table border=\"1\" class=\"dataframe\">\n",
       "  <thead>\n",
       "    <tr>\n",
       "      <th></th>\n",
       "      <th></th>\n",
       "      <th></th>\n",
       "      <th></th>\n",
       "      <th></th>\n",
       "      <th colspan=\"10\" halign=\"left\">summary</th>\n",
       "      <th>...</th>\n",
       "      <th colspan=\"10\" halign=\"left\">possession</th>\n",
       "    </tr>\n",
       "    <tr>\n",
       "      <th></th>\n",
       "      <th></th>\n",
       "      <th></th>\n",
       "      <th></th>\n",
       "      <th></th>\n",
       "      <th>jersey_number</th>\n",
       "      <th>nation</th>\n",
       "      <th>pos</th>\n",
       "      <th>age</th>\n",
       "      <th>min</th>\n",
       "      <th colspan=\"5\" halign=\"left\">Performance</th>\n",
       "      <th>...</th>\n",
       "      <th colspan=\"7\" halign=\"left\">Carries</th>\n",
       "      <th colspan=\"2\" halign=\"left\">Receiving</th>\n",
       "      <th>game_id</th>\n",
       "    </tr>\n",
       "    <tr>\n",
       "      <th></th>\n",
       "      <th></th>\n",
       "      <th></th>\n",
       "      <th></th>\n",
       "      <th></th>\n",
       "      <th>Unnamed: 5_level_1</th>\n",
       "      <th>Unnamed: 6_level_1</th>\n",
       "      <th>Unnamed: 7_level_1</th>\n",
       "      <th>Unnamed: 8_level_1</th>\n",
       "      <th>Unnamed: 9_level_1</th>\n",
       "      <th>Gls</th>\n",
       "      <th>Ast</th>\n",
       "      <th>PK</th>\n",
       "      <th>PKatt</th>\n",
       "      <th>Sh</th>\n",
       "      <th>...</th>\n",
       "      <th>TotDist</th>\n",
       "      <th>PrgDist</th>\n",
       "      <th>PrgC</th>\n",
       "      <th>1/3</th>\n",
       "      <th>CPA</th>\n",
       "      <th>Mis</th>\n",
       "      <th>Dis</th>\n",
       "      <th>Rec</th>\n",
       "      <th>PrgR</th>\n",
       "      <th>Unnamed: 32_level_1</th>\n",
       "    </tr>\n",
       "    <tr>\n",
       "      <th>league</th>\n",
       "      <th>season</th>\n",
       "      <th>game</th>\n",
       "      <th>team</th>\n",
       "      <th>player</th>\n",
       "      <th></th>\n",
       "      <th></th>\n",
       "      <th></th>\n",
       "      <th></th>\n",
       "      <th></th>\n",
       "      <th></th>\n",
       "      <th></th>\n",
       "      <th></th>\n",
       "      <th></th>\n",
       "      <th></th>\n",
       "      <th></th>\n",
       "      <th></th>\n",
       "      <th></th>\n",
       "      <th></th>\n",
       "      <th></th>\n",
       "      <th></th>\n",
       "      <th></th>\n",
       "      <th></th>\n",
       "      <th></th>\n",
       "      <th></th>\n",
       "      <th></th>\n",
       "    </tr>\n",
       "  </thead>\n",
       "  <tbody>\n",
       "  </tbody>\n",
       "</table>\n",
       "<p>0 rows × 176 columns</p>\n",
       "</div>"
      ],
      "text/plain": [
       "Empty DataFrame\n",
       "Columns: [(summary, jersey_number, Unnamed: 5_level_1), (summary, nation, Unnamed: 6_level_1), (summary, pos, Unnamed: 7_level_1), (summary, age, Unnamed: 8_level_1), (summary, min, Unnamed: 9_level_1), (summary, Performance, Gls), (summary, Performance, Ast), (summary, Performance, PK), (summary, Performance, PKatt), (summary, Performance, Sh), (summary, Performance, SoT), (summary, Performance, CrdY), (summary, Performance, CrdR), (summary, Performance, Touches), (summary, Performance, Tkl), (summary, Performance, Int), (summary, Performance, Blocks), (summary, Expected, xG), (summary, Expected, npxG), (summary, Expected, xAG), (summary, SCA, SCA), (summary, SCA, GCA), (summary, Passes, Cmp), (summary, Passes, Att), (summary, Passes, Cmp%), (summary, Passes, PrgP), (summary, Carries, Carries), (summary, Carries, PrgC), (summary, Take-Ons, Att), (summary, Take-Ons, Succ), (summary, game_id, Unnamed: 35_level_1), (defense, jersey_number, Unnamed: 5_level_1), (defense, nation, Unnamed: 6_level_1), (defense, pos, Unnamed: 7_level_1), (defense, age, Unnamed: 8_level_1), (defense, Tackles, min), (defense, Tackles, Tkl), (defense, Tackles, TklW), (defense, Tackles, Def 3rd), (defense, Tackles, Mid 3rd), (defense, Tackles, Att 3rd), (defense, Challenges, Tkl), (defense, Challenges, Att), (defense, Challenges, Tkl%), (defense, Challenges, Lost), (defense, Blocks, Blocks), (defense, Blocks, Sh), (defense, Blocks, Pass), (defense, Int, Unnamed: 22_level_1), (defense, Tkl+Int, Unnamed: 23_level_1), (defense, Clr, Unnamed: 24_level_1), (defense, Err, Unnamed: 25_level_1), (defense, game_id, Unnamed: 26_level_1), (keepers, nation, Unnamed: 5_level_1), (keepers, age, Unnamed: 6_level_1), (keepers, min, Unnamed: 7_level_1), (keepers, Shot Stopping, SoTA), (keepers, Shot Stopping, GA), (keepers, Shot Stopping, Saves), (keepers, Shot Stopping, Save%), (keepers, Shot Stopping, PSxG), (keepers, Launched, Cmp), (keepers, Launched, Att), (keepers, Launched, Cmp%), (keepers, Passes, Att (GK)), (keepers, Passes, Thr), (keepers, Passes, Launch%), (keepers, Passes, AvgLen), (keepers, Goal Kicks, Att), (keepers, Goal Kicks, Launch%), (keepers, Goal Kicks, AvgLen), (keepers, Crosses, Opp), (keepers, Crosses, Stp), (keepers, Crosses, Stp%), (keepers, Sweeper, #OPA), (keepers, Sweeper, AvgDist), (keepers, game_id, Unnamed: 28_level_1), (misc, jersey_number, Unnamed: 5_level_1), (misc, nation, Unnamed: 6_level_1), (misc, pos, Unnamed: 7_level_1), (misc, age, Unnamed: 8_level_1), (misc, Performance, min), (misc, Performance, CrdY), (misc, Performance, CrdR), (misc, Performance, 2CrdY), (misc, Performance, Fls), (misc, Performance, Fld), (misc, Performance, Off), (misc, Performance, Crs), (misc, Performance, Int), (misc, Performance, TklW), (misc, Performance, PKwon), (misc, Performance, PKcon), (misc, Performance, OG), (misc, Performance, Recov), (misc, Aerial Duels, Won), (misc, Aerial Duels, Lost), (misc, Aerial Duels, Won%), (misc, game_id, Unnamed: 26_level_1), (passing, jersey_number, Unnamed: 5_level_1), ...]\n",
       "Index: []\n",
       "\n",
       "[0 rows x 176 columns]"
      ]
     },
     "execution_count": 156,
     "metadata": {},
     "output_type": "execute_result"
    }
   ],
   "source": [
    "# Проверяем, есть ли дубликаты строк\n",
    "duplicates_rows = merged.duplicated()\n",
    "merged[duplicates_rows == True]"
   ]
  },
  {
   "cell_type": "code",
   "execution_count": 159,
   "id": "16e7f968",
   "metadata": {},
   "outputs": [
    {
     "data": {
      "text/plain": [
       "summary     jersey_number  Unnamed: 5_level_1     False\n",
       "            nation         Unnamed: 6_level_1     False\n",
       "            pos            Unnamed: 7_level_1     False\n",
       "            age            Unnamed: 8_level_1     False\n",
       "            min            Unnamed: 9_level_1     False\n",
       "                                                  ...  \n",
       "possession  Carries        Mis                    False\n",
       "                           Dis                    False\n",
       "            Receiving      Rec                    False\n",
       "                           PrgR                   False\n",
       "            game_id        Unnamed: 32_level_1     True\n",
       "Length: 176, dtype: bool"
      ]
     },
     "execution_count": 159,
     "metadata": {},
     "output_type": "execute_result"
    }
   ],
   "source": [
    "# Смотрим дубликаты столбцов\n",
    "duplicates_cols = merged.T.duplicated()\n",
    "duplicates_cols"
   ]
  },
  {
   "cell_type": "code",
   "execution_count": null,
   "id": "0f7fbbb7",
   "metadata": {},
   "outputs": [
    {
     "data": {
      "text/plain": [
       "MultiIndex([(      'defense',       'Tackles',                 'Tkl'),\n",
       "            (      'defense',        'Blocks',              'Blocks'),\n",
       "            (         'misc', 'jersey_number',  'Unnamed: 5_level_1'),\n",
       "            (         'misc',        'nation',  'Unnamed: 6_level_1'),\n",
       "            (         'misc',           'pos',  'Unnamed: 7_level_1'),\n",
       "            (         'misc',           'age',  'Unnamed: 8_level_1'),\n",
       "            (         'misc',   'Performance',                 'min'),\n",
       "            (         'misc',   'Performance',                 'Int'),\n",
       "            (         'misc',   'Performance',                'TklW'),\n",
       "            (         'misc',       'game_id', 'Unnamed: 26_level_1'),\n",
       "            (      'passing', 'jersey_number',  'Unnamed: 5_level_1'),\n",
       "            (      'passing',        'nation',  'Unnamed: 6_level_1'),\n",
       "            (      'passing',           'pos',  'Unnamed: 7_level_1'),\n",
       "            (      'passing',           'age',  'Unnamed: 8_level_1'),\n",
       "            (      'passing',         'Total',                 'min'),\n",
       "            (      'passing',         'Total',                 'Cmp'),\n",
       "            (      'passing',         'Total',                 'Att'),\n",
       "            (      'passing',         'Total',                'Cmp%'),\n",
       "            (      'passing',           'xAG', 'Unnamed: 25_level_1'),\n",
       "            (      'passing',          'PrgP', 'Unnamed: 31_level_1'),\n",
       "            (      'passing',       'game_id', 'Unnamed: 32_level_1'),\n",
       "            ('passing_types', 'jersey_number',  'Unnamed: 5_level_1'),\n",
       "            ('passing_types',        'nation',  'Unnamed: 6_level_1'),\n",
       "            ('passing_types',           'pos',  'Unnamed: 7_level_1'),\n",
       "            ('passing_types',           'age',  'Unnamed: 8_level_1'),\n",
       "            ('passing_types',    'Pass Types',                 'Crs'),\n",
       "            ('passing_types',      'Outcomes',                 'Cmp'),\n",
       "            ('passing_types',       'game_id', 'Unnamed: 25_level_1'),\n",
       "            (   'possession', 'jersey_number',  'Unnamed: 5_level_1'),\n",
       "            (   'possession',        'nation',  'Unnamed: 6_level_1'),\n",
       "            (   'possession',           'pos',  'Unnamed: 7_level_1'),\n",
       "            (   'possession',           'age',  'Unnamed: 8_level_1'),\n",
       "            (   'possession',       'Touches',                 'min'),\n",
       "            (   'possession',       'Touches',             'Touches'),\n",
       "            (   'possession',      'Take-Ons',                 'Att'),\n",
       "            (   'possession',      'Take-Ons',                'Succ'),\n",
       "            (   'possession',       'Carries',             'Carries'),\n",
       "            (   'possession',       'Carries',                'PrgC'),\n",
       "            (   'possession',       'game_id', 'Unnamed: 32_level_1')],\n",
       "           )"
      ]
     },
     "execution_count": 162,
     "metadata": {},
     "output_type": "execute_result"
    }
   ],
   "source": [
    "# Какие столбцы повторились\n",
    "merged.columns[duplicates_cols == True]"
   ]
  },
  {
   "cell_type": "code",
   "execution_count": null,
   "id": "1564717b",
   "metadata": {},
   "outputs": [],
   "source": [
    "merged.loc[:, ('summary', 'Expected', 'xG')] != merged.loc[:, ('summary', 'Expected', 'xG')]"
   ]
  },
  {
   "cell_type": "markdown",
   "id": "70fbd7cf",
   "metadata": {},
   "source": [
    "### Разбиение на тестовую и обучаемую выборки (в нашем случае берём мало данных, чтобы протестировать наши функции)"
   ]
  },
  {
   "cell_type": "code",
   "execution_count": null,
   "id": "a1abb05c",
   "metadata": {},
   "outputs": [],
   "source": [
    "step = len(df) // 5  # Если хотим примерно равное количество записей в каждой группе\n",
    "\n",
    "# Выбираем первые 80%\n",
    "df_train = df.iloc[:len(df)*4//5]\n",
    "\n",
    "# Берём оставшиеся 20%\n",
    "df_test = df.iloc[len(df)*4//5:]\n",
    "\n",
    "print(\"Размер Train:\", len(df_train))\n",
    "print(\"Размер Test:\", len(df_test))"
   ]
  }
 ],
 "metadata": {
  "kernelspec": {
   "display_name": "Python 3",
   "language": "python",
   "name": "python3"
  },
  "language_info": {
   "codemirror_mode": {
    "name": "ipython",
    "version": 3
   },
   "file_extension": ".py",
   "mimetype": "text/x-python",
   "name": "python",
   "nbconvert_exporter": "python",
   "pygments_lexer": "ipython3",
   "version": "3.11.2"
  }
 },
 "nbformat": 4,
 "nbformat_minor": 5
}
